{
 "cells": [
  {
   "cell_type": "code",
   "execution_count": 65,
   "metadata": {},
   "outputs": [],
   "source": [
    "from bs4 import BeautifulSoup as bs\n",
    "from splinter import Browser\n",
    "from webdriver_manager.chrome import ChromeDriverManager\n",
    "import time\n",
    "import re\n",
    "import pandas as pd\n",
    "#from HEB_scraping_filter import *\n"
   ]
  },
  {
   "cell_type": "code",
   "execution_count": 128,
   "metadata": {},
   "outputs": [],
   "source": [
    "#####################################################\n",
    "################ utility function\n",
    "def return_string(string, start_after_word,stop_before_word):\n",
    "    \"\"\"return part of string between 2 words     (string, start_after_word,stop_befor_word)\"\"\"\n",
    "    try:\n",
    "        if start_after_word==\"\":\n",
    "            start_address=0\n",
    "        else:\n",
    "            start_address=re.search(start_after_word,string).span()[1]\n",
    "        #print(start_address)\n",
    "        if stop_before_word==\"\":\n",
    "            stop_address=len(string)\n",
    "        else:\n",
    "            stop_address=re.search(stop_before_word,string).span()[0]\n",
    "        #print(stop_address)\n",
    "        my_string=string[start_address:stop_address]\n",
    "    except Exception as e:\n",
    "        # handle error\n",
    "        error=f\"STRING _exception_: {type(e).__name__},</br> _arguments_: {e.args}\"\n",
    "        #print(error)\n",
    "        my_string=None\n",
    "    return my_string\n",
    "\n",
    "\n",
    "# In[7]:\n",
    "\n",
    "\n",
    "####################################################\n",
    "###############filter function \n",
    "def heb_filter(soup_find):\n",
    "    \"\"\" function takes result of HEB scraping - soup.find_all and\n",
    "    transforms it to dataframe \"\"\"\n",
    "    my_result=soup_find\n",
    "    scrap_df=pd.DataFrame()\n",
    "#   my_result=soup.body.find_all('a',id=re.compile('product-'))\n",
    "       \n",
    "    i=0\n",
    "    for record in my_result:\n",
    "        json=eval(record.find('script',type=\"application/ld+json\").string)\n",
    "        try:\n",
    "            try:\n",
    "                name=record.find('span',class_=re.compile('responsive')).text.strip()\n",
    "            except:\n",
    "                name=json['name']\n",
    "            size=return_string(name,\"Milk\",\"\")\n",
    "            json=eval(record.find('script',type=\"application/ld+json\").string)\n",
    "            id=json['id']\n",
    "            brand=json['brand']\n",
    "            category=json['category']\n",
    "            price=json['price']\n",
    "            search_string=record['aria-label'].strip()\n",
    "            features=return_string(search_string,\"Features:\",\"\")\n",
    "         #  rating=return_string(search_string,\"Rated\",\"stars\")\n",
    "            try:\n",
    "                uomSalePrice=record.find('span',class_=re.compile('uomSalePrice')).text.strip()\n",
    "            except:\n",
    "                uomSalePrice=None\n",
    "            try:\n",
    "                image=record.find('img',attrs={\"data-src\":re.compile('prd-small')})['data-src']\n",
    "            except:\n",
    "                image=record.find('img',attrs={\"src\":re.compile('prd-small')})['src']\n",
    "            if record.find('img',src=re.compile('coupon'))==None:\n",
    "                coupon=0\n",
    "            else:\n",
    "                coupon=1\n",
    "            #debug prints\n",
    "            #print(i) \n",
    "            #print (f'{name} \\n{size}\\n{json}\\n{id}\\n{brand}\\n{category}\\n{price}\\n{features}\\n{coupon}\\n{uomSalePrice}\\n{image}')\n",
    "            #print('___________________')\n",
    "            i+=1\n",
    "            scrap_df = scrap_df.append({'id':id,\n",
    "                                'name': name,\n",
    "                                'brand':brand,\n",
    "                                'size':size,\n",
    "                                'category':category,\n",
    "                                'price':price,\n",
    "                                'features':features,\n",
    "                                'coupon':coupon,\n",
    "                                'uomSalePrice':uomSalePrice,\n",
    "                                'image':image,\n",
    "                               }, ignore_index=True)\n",
    "        except Exception as e:\n",
    "        # handle error\n",
    "            print(i) \n",
    "            print (f'{name} \\n{size}\\n{json}\\n{id}\\n{brand}\\n{category}\\n{price}\\n{features}\\n{coupon}\\n{uomSalePrice}\\n{image}')\n",
    "            error=f\"MAIN_exception_: {type(e).__name__},</br> _arguments_: {e.args}\"\n",
    "            print(error)\n",
    "        \n",
    "    return scrap_df"
   ]
  },
  {
   "cell_type": "code",
   "execution_count": 28,
   "metadata": {},
   "outputs": [
    {
     "name": "stderr",
     "output_type": "stream",
     "text": [
      "[WDM] - ====== WebDriver manager ======\n",
      "[WDM] - Current google-chrome version is 88.0.4324\n",
      "[WDM] - Get LATEST driver version for 88.0.4324\n",
      "[WDM] - Driver [C:\\Users\\ykras\\.wdm\\drivers\\chromedriver\\win32\\88.0.4324.96\\chromedriver.exe] found in cache\n"
     ]
    },
    {
     "name": "stdout",
     "output_type": "stream",
     "text": [
      "\n",
      "\n"
     ]
    }
   ],
   "source": [
    "#setting up splinter\n",
    "executable_path = {'executable_path': ChromeDriverManager().install()}\n",
    "browser = Browser('chrome', **executable_path, headless=False)"
   ]
  },
  {
   "cell_type": "code",
   "execution_count": 40,
   "metadata": {},
   "outputs": [],
   "source": [
    "milk = \"https://www.heb.com/search/results?N=3139289889&No=0&Nrpp=60&Ntt=milk&q=milk&prodFilter=none\"\n",
    "browser.visit(milk)\n",
    "time.sleep(10)"
   ]
  },
  {
   "cell_type": "code",
   "execution_count": 39,
   "metadata": {},
   "outputs": [],
   "source": []
  },
  {
   "cell_type": "code",
   "execution_count": 42,
   "metadata": {},
   "outputs": [],
   "source": [
    "html = browser.html\n",
    "soup = bs(html,\"lxml\")\n",
    "\n",
    "page = soup.body.find_all('a',id=re.compile('product-'))\n",
    "milks = page\n",
    "browser.links.find_by_partial_text('Next').click()\n",
    "time.sleep(10)\n",
    "for x in range(1,15):\n",
    "    html = browser.html\n",
    "    soup = bs(html,\"lxml\")\n",
    "    page = soup.body.find_all('a',id=re.compile('product-'))\n",
    "    milks.extend(page)\n",
    "    try:\n",
    "        browser.links.find_by_partial_text('Next').click()\n",
    "        time.sleep(10)\n",
    "    except:\n",
    "        break"
   ]
  },
  {
   "cell_type": "code",
   "execution_count": 140,
   "metadata": {},
   "outputs": [
    {
     "data": {
      "text/plain": [
       "<a aria-label=\"H-E-B Baby Toddler Beginnings Stage 2 Formula with (9-18 Months),\n",
       "\t\t22 oz,\n",
       "\t\t$12.24 each.Coupon available.\" class=\"responsivegriditem__aria-link-wrap\" href=\"/product-detail/h-e-b-baby-toddler-beginnings-stage-2-formula-with-9-18-months-/1412004\" id=\"product-1412004\">\n",
       "<div class=\"responsivegriditem-top is-carousel\" onclick=\"gtm_e_productClick('gtm-product-click-1412004');\">\n",
       "<div class=\"cat-feature clearfix\">\n",
       "<div class=\"cat-feature-marketing\">\n",
       "</div>\n",
       "<div class=\"cat-feature-list clearfix\">\n",
       "</div></div>\n",
       "<div class=\"cat-list-img gtm-product gtm-carousel\">\n",
       "<img alt=\"H-E-B Baby Toddler Beginnings Stage 2 Formula with (9-18 Months)\" class=\"ls-is-cached lazyloaded\" src=\"https://images.heb.com/is/image/HEBGrocery/prd-small/h-e-b-baby-toddler-beginnings-stage-2-formula-with-9-18-months--001412004.jpg\"/><script type=\"application/ld+json\">\n",
       "{\t\n",
       "\t\"name\": \"H-E-B Baby Toddler Beginnings Stage 2 Formula with (9-18 Months)\", \n",
       "\t\"id\": \"1412004\", \n",
       "\t\"category\": \"Baby & Kids/Food & Formula/Formula\",\n",
       "\t\"brand\": \"H-E-B\", \n",
       "\t\"variant\": \"each\", \n",
       "\t\"price\": 12.24,\n",
       "\t\"list\": \"We recommend\",\n",
       "\t\"position\": \"4\",\n",
       "\t\"dimension26\": \"true\",\n",
       "\t\"dimension40\": \"default\"\n",
       "}\n",
       "</script>\n",
       "</div>\n",
       "<div class=\"responsivegriditem__title\" onclick=\"gtm_e_productClick('gtm-product-click-1412004');\">\n",
       "\t\t\t\t\tH‑E‑B Baby Toddler Beginnings Stage 2 Formula with (9‑18 Months), 22 oz</div>\n",
       "</div>\n",
       "<div class=\"responsivegriditem-middle is-carousel\">\n",
       "<div class=\"cat-price\">\n",
       "<div class=\"responsivegriditem__price-label\"></div>\n",
       "<span class=\"cat-price-number\">\n",
       "                        $12.24 each</span>\n",
       "<span class=\"cat-sale-price-container\">\n",
       "<span class=\"uomSalePrice\">\n",
       "                        ($0.62/oz)\n",
       "                    </span>\n",
       "</span>\n",
       "</div><div class=\"cdp-moq\">\n",
       "</div>\n",
       "</div>\n",
       "</a>"
      ]
     },
     "execution_count": 140,
     "metadata": {},
     "output_type": "execute_result"
    }
   ],
   "source": [
    "milks[675]\n",
    "# tag_string = \"\"\n",
    "# for item in milks[0].contents[1]:\n",
    "#     tag_string += str(item)\n",
    "    \n",
    "# #tag_string\n",
    "# item_info = tag_string.split(\"{\")\n",
    "# the_right_stuff = item_info[1]\n",
    "# while \"\\t\" in the_right_stuff:\n",
    "#     index = the_right_stuff.find('\\t')\n",
    "#     the_right_stuff = the_right_stuff[:index] + the_right_stuff[index+1:]\n",
    "# while \"\\n\" in the_right_stuff:\n",
    "#     index = the_right_stuff.find('\\n')\n",
    "#     the_right_stuff = the_right_stuff[:index] + the_right_stuff[index+1:]\n",
    "# while \"</script>\" in the_right_stuff:\n",
    "#     index = the_right_stuff.find('</script>')\n",
    "#     the_right_stuff = the_right_stuff[:index] + the_right_stuff[index+9:]\n",
    "# while \"</div>\" in the_right_stuff:\n",
    "#     index = the_right_stuff.find('</div>')\n",
    "#     the_right_stuff = the_right_stuff[:index] + the_right_stuff[index+6:]\n",
    "# the_right_stuff"
   ]
  },
  {
   "cell_type": "code",
   "execution_count": 44,
   "metadata": {},
   "outputs": [],
   "source": [
    "browser.quit()"
   ]
  },
  {
   "cell_type": "code",
   "execution_count": 129,
   "metadata": {},
   "outputs": [
    {
     "data": {
      "text/plain": [
       "'https://images.heb.com/is/image/HEBGrocery/prd-small/similac-go-grow-non-gmo-toddler-drink-powder-002070468.jpg'"
      ]
     },
     "execution_count": 129,
     "metadata": {},
     "output_type": "execute_result"
    }
   ],
   "source": [
    "record=milks[660]\n",
    "record.find('img',attrs={\"src\":re.compile('prd-small')})['src']"
   ]
  },
  {
   "cell_type": "code",
   "execution_count": 126,
   "metadata": {},
   "outputs": [
    {
     "name": "stdout",
     "output_type": "stream",
     "text": [
      "Similac Go & Grow Non-GMO Toddler Drink Powder\n",
      "None\n",
      "{'name': 'Similac Go & Grow Non-GMO Toddler Drink Powder', 'id': '2070468', 'category': 'Baby & Kids/Food & Formula/Formula', 'brand': 'Similac', 'variant': 'each', 'price': 20.58, 'list': 'We recommend', 'position': '1', 'dimension26': 'false', 'dimension40': 'default'}\n",
      "2070468\n",
      "Similac\n",
      "Baby & Kids/Food & Formula/Formula\n",
      "20.58\n"
     ]
    }
   ],
   "source": [
    "json=eval(record.find('script',type=\"application/ld+json\").string)\n",
    "#name=record.find('span',class_=re.compile('responsive')).text.strip()\n",
    "name=json['name']\n",
    "size=return_string(name,\"Milk\",\"\")\n",
    "\n",
    "id=json['id']\n",
    "brand=json['brand']\n",
    "category=json['category']\n",
    "price=json['price']\n",
    "search_string=record['aria-label'].strip()\n",
    "features=return_string(search_string,\"Features:\",\"\")\n",
    "# #  rating=return_string(search_string,\"Rated\",\"stars\")\n",
    "uomSalePrice=record.find('span',class_=re.compile('uomSalePrice')).text.strip()\n",
    "#image=record.find('img',attrs={\"data-src\":re.compile('prd-small')})['data-src']\n",
    "print (f'{name}\\n{size}\\n{json}\\n{id}\\n{brand}\\n{category}\\n{price}')\n",
    "#\\n{id}\\n{brand}\\n{category}\\n{price}\\n{features}\\n{coupon}\\n{uomSalePrice}\\n{image}')"
   ]
  },
  {
   "cell_type": "code",
   "execution_count": 130,
   "metadata": {
    "scrolled": false
   },
   "outputs": [],
   "source": [
    "scrap_df=heb_filter(milks)"
   ]
  },
  {
   "cell_type": "code",
   "execution_count": 142,
   "metadata": {},
   "outputs": [],
   "source": [
    "heb_df=scrap_df.loc[scrap_df['category']=='Dairy & Eggs/Milk']"
   ]
  },
  {
   "cell_type": "code",
   "execution_count": 144,
   "metadata": {},
   "outputs": [
    {
     "data": {
      "text/html": [
       "<div>\n",
       "<style scoped>\n",
       "    .dataframe tbody tr th:only-of-type {\n",
       "        vertical-align: middle;\n",
       "    }\n",
       "\n",
       "    .dataframe tbody tr th {\n",
       "        vertical-align: top;\n",
       "    }\n",
       "\n",
       "    .dataframe thead th {\n",
       "        text-align: right;\n",
       "    }\n",
       "</style>\n",
       "<table border=\"1\" class=\"dataframe\">\n",
       "  <thead>\n",
       "    <tr style=\"text-align: right;\">\n",
       "      <th></th>\n",
       "      <th>brand</th>\n",
       "      <th>category</th>\n",
       "      <th>coupon</th>\n",
       "      <th>features</th>\n",
       "      <th>id</th>\n",
       "      <th>image</th>\n",
       "      <th>name</th>\n",
       "      <th>price</th>\n",
       "      <th>size</th>\n",
       "      <th>uomSalePrice</th>\n",
       "    </tr>\n",
       "  </thead>\n",
       "  <tbody>\n",
       "    <tr>\n",
       "      <th>97</th>\n",
       "      <td>Thai Kitchen</td>\n",
       "      <td>Dairy &amp; Eggs/Milk</td>\n",
       "      <td>0.0</td>\n",
       "      <td>LESS THAN 5G NET CARBS.  VEGETARIAN.  VEGAN....</td>\n",
       "      <td>740626</td>\n",
       "      <td>https://images.heb.com/is/image/HEBGrocery/prd...</td>\n",
       "      <td>Thai Kitchen Organic Unsweetened Coconut Milk,...</td>\n",
       "      <td>2.46</td>\n",
       "      <td>, 13.66 oz</td>\n",
       "      <td>($0.19/oz)</td>\n",
       "    </tr>\n",
       "  </tbody>\n",
       "</table>\n",
       "</div>"
      ],
      "text/plain": [
       "           brand           category  coupon  \\\n",
       "97  Thai Kitchen  Dairy & Eggs/Milk     0.0   \n",
       "\n",
       "                                             features      id  \\\n",
       "97    LESS THAN 5G NET CARBS.  VEGETARIAN.  VEGAN....  740626   \n",
       "\n",
       "                                                image  \\\n",
       "97  https://images.heb.com/is/image/HEBGrocery/prd...   \n",
       "\n",
       "                                                 name  price        size  \\\n",
       "97  Thai Kitchen Organic Unsweetened Coconut Milk,...   2.46  , 13.66 oz   \n",
       "\n",
       "   uomSalePrice  \n",
       "97   ($0.19/oz)  "
      ]
     },
     "execution_count": 144,
     "metadata": {},
     "output_type": "execute_result"
    }
   ],
   "source": [
    "heb_df.loc[heb_df['name']=='Thai Kitchen Organic Unsweetened Coconut Milk, 13.66 oz']"
   ]
  },
  {
   "cell_type": "code",
   "execution_count": 14,
   "metadata": {},
   "outputs": [],
   "source": [
    "path='data/heb_scrape.csv'\n",
    "scrap_df.to_csv(path, index_label=False)"
   ]
  }
 ],
 "metadata": {
  "kernelspec": {
   "display_name": "Python 3",
   "language": "python",
   "name": "python3"
  },
  "language_info": {
   "codemirror_mode": {
    "name": "ipython",
    "version": 3
   },
   "file_extension": ".py",
   "mimetype": "text/x-python",
   "name": "python",
   "nbconvert_exporter": "python",
   "pygments_lexer": "ipython3",
   "version": "3.8.5"
  }
 },
 "nbformat": 4,
 "nbformat_minor": 4
}
