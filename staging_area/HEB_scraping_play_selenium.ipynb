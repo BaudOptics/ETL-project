{
 "cells": [
  {
   "cell_type": "code",
   "execution_count": 1,
   "metadata": {},
   "outputs": [],
   "source": [
    "###########################################"
   ]
  },
  {
   "cell_type": "code",
   "execution_count": 2,
   "metadata": {},
   "outputs": [],
   "source": [
    "############ Import libraries"
   ]
  },
  {
   "cell_type": "code",
   "execution_count": 3,
   "metadata": {},
   "outputs": [
    {
     "ename": "ModuleNotFoundError",
     "evalue": "No module named 'bs4'",
     "output_type": "error",
     "traceback": [
      "\u001b[0;31m---------------------------------------------------------------------------\u001b[0m",
      "\u001b[0;31mModuleNotFoundError\u001b[0m                       Traceback (most recent call last)",
      "\u001b[0;32m<ipython-input-3-afcf45f6887a>\u001b[0m in \u001b[0;36m<module>\u001b[0;34m\u001b[0m\n\u001b[0;32m----> 1\u001b[0;31m \u001b[0;32mfrom\u001b[0m \u001b[0mbs4\u001b[0m \u001b[0;32mimport\u001b[0m \u001b[0mBeautifulSoup\u001b[0m \u001b[0;32mas\u001b[0m \u001b[0mbs\u001b[0m\u001b[0;34m\u001b[0m\u001b[0;34m\u001b[0m\u001b[0m\n\u001b[0m\u001b[1;32m      2\u001b[0m \u001b[0;32mimport\u001b[0m \u001b[0mpandas\u001b[0m \u001b[0;32mas\u001b[0m \u001b[0mpd\u001b[0m\u001b[0;34m\u001b[0m\u001b[0;34m\u001b[0m\u001b[0m\n\u001b[1;32m      3\u001b[0m \u001b[0;32mimport\u001b[0m \u001b[0mre\u001b[0m\u001b[0;34m\u001b[0m\u001b[0;34m\u001b[0m\u001b[0m\n\u001b[1;32m      4\u001b[0m \u001b[0;32mfrom\u001b[0m \u001b[0mselenium\u001b[0m \u001b[0;32mimport\u001b[0m \u001b[0mwebdriver\u001b[0m\u001b[0;34m\u001b[0m\u001b[0;34m\u001b[0m\u001b[0m\n\u001b[1;32m      5\u001b[0m \u001b[0;31m#from selenium.webdriver.common.keys import Keys\u001b[0m\u001b[0;34m\u001b[0m\u001b[0;34m\u001b[0m\u001b[0;34m\u001b[0m\u001b[0m\n",
      "\u001b[0;31mModuleNotFoundError\u001b[0m: No module named 'bs4'"
     ]
    }
   ],
   "source": [
    "from bs4 import BeautifulSoup as bs \n",
    "import pandas as pd\n",
    "import re\n",
    "from selenium import webdriver \n",
    "#from selenium.webdriver.common.keys import Keys\n",
    "import time"
   ]
  },
  {
   "cell_type": "code",
   "execution_count": null,
   "metadata": {},
   "outputs": [],
   "source": [
    "from fuzzywuzzy import fuzz\n",
    "from fuzzywuzzy import process"
   ]
  },
  {
   "cell_type": "code",
   "execution_count": null,
   "metadata": {},
   "outputs": [],
   "source": [
    "#####################################################\n",
    "################ utility function\n",
    "def return_string(string, start_after_word,stop_before_word):\n",
    "    \"\"\"return part of string between 2 words \\\n",
    "    (string, start_after_word,stop_befor_word)\"\"\"\n",
    "    try:\n",
    "        if start_after_word==\"\":\n",
    "            start_address=0\n",
    "        else:\n",
    "            start_address=re.search(start_after_word,string).span()[1]\n",
    "        #print(start_address)\n",
    "        if stop_before_word==\"\":\n",
    "            stop_address=len(string)\n",
    "        else:\n",
    "            stop_address=re.search(stop_before_word,string).span()[0]\n",
    "        #print(stop_address)\n",
    "        my_string=string[start_address:stop_address]\n",
    "    except Exception as e:\n",
    "        # handle error\n",
    "        error=f\"_exception_: {type(e).__name__},</br> _arguments_: {e.args}\"\n",
    "        print(error)\n",
    "        my_string=None\n",
    "    return my_string"
   ]
  },
  {
   "cell_type": "code",
   "execution_count": null,
   "metadata": {},
   "outputs": [],
   "source": [
    "return_string('i love papa sdsds and mama sdsd .','mama','')"
   ]
  },
  {
   "cell_type": "code",
   "execution_count": null,
   "metadata": {},
   "outputs": [],
   "source": [
    "# URL  of page for scraping\n",
    "url='https://heb.com'"
   ]
  },
  {
   "cell_type": "code",
   "execution_count": null,
   "metadata": {},
   "outputs": [],
   "source": [
    "driver = webdriver.Chrome('C://bin//chromedriver.exe')  \n",
    "driver.get(url) \n",
    "time.sleep(5)"
   ]
  },
  {
   "cell_type": "code",
   "execution_count": null,
   "metadata": {},
   "outputs": [],
   "source": [
    "#clear button\n",
    "try:\n",
    "    py_button=driver.find_element_by_xpath(\"//button[@aria-label='Reset']\")\n",
    "    py_button.click()\n",
    "except:\n",
    "    print('no text yet')"
   ]
  },
  {
   "cell_type": "code",
   "execution_count": null,
   "metadata": {},
   "outputs": [],
   "source": [
    "# click on search field\n",
    "py_button = driver.find_element_by_xpath(\"//input[@name='q']\")\n",
    "py_button.click()"
   ]
  },
  {
   "cell_type": "code",
   "execution_count": null,
   "metadata": {},
   "outputs": [],
   "source": [
    "# search of Milk\n",
    "search_item='milk'\n",
    "py_button.send_keys(f'{search_item}')\n"
   ]
  },
  {
   "cell_type": "code",
   "execution_count": null,
   "metadata": {},
   "outputs": [],
   "source": [
    "# press search button ( wait 5 min)\n",
    "py_button=driver.find_element_by_xpath(\"//button[@aria-label='Search']\")\n",
    "py_button.click()\n",
    "time.sleep(5)"
   ]
  },
  {
   "cell_type": "code",
   "execution_count": null,
   "metadata": {},
   "outputs": [],
   "source": []
  },
  {
   "cell_type": "code",
   "execution_count": null,
   "metadata": {},
   "outputs": [],
   "source": [
    "\n",
    "response = driver.page_source\n",
    "soup=bs(response,'lxml')\n",
    "soup"
   ]
  },
  {
   "cell_type": "code",
   "execution_count": null,
   "metadata": {},
   "outputs": [],
   "source": [
    "result=soup.body.find_all('a',id=re.compile('product-'))\n",
    "result[3]"
   ]
  },
  {
   "cell_type": "code",
   "execution_count": null,
   "metadata": {},
   "outputs": [],
   "source": [
    "try_result=result[4]['aria-label'].strip()\n",
    "try_result"
   ]
  },
  {
   "cell_type": "code",
   "execution_count": null,
   "metadata": {},
   "outputs": [],
   "source": [
    "# getting features \n",
    "return_string(try_result,\"Features:\",\"\")"
   ]
  },
  {
   "cell_type": "code",
   "execution_count": null,
   "metadata": {},
   "outputs": [],
   "source": [
    "# getting coupon yes or no \n",
    "result[13].find('img',src=re.compile('coupon'))"
   ]
  },
  {
   "cell_type": "code",
   "execution_count": null,
   "metadata": {},
   "outputs": [],
   "source": [
    "\n",
    "return_string(try_result,\"\",\"\")"
   ]
  },
  {
   "cell_type": "code",
   "execution_count": null,
   "metadata": {},
   "outputs": [],
   "source": [
    "# getting image URL \n",
    "result[0].find('img',src=re.compile('prd-small'))['src']"
   ]
  },
  {
   "cell_type": "code",
   "execution_count": null,
   "metadata": {},
   "outputs": [],
   "source": [
    "result[0].find('span',class_=re.compile('responsive')).text.strip()"
   ]
  },
  {
   "cell_type": "code",
   "execution_count": null,
   "metadata": {},
   "outputs": [],
   "source": [
    "result[0].find('span',class_=re.compile('uomSalePrice')).text.strip()\n"
   ]
  },
  {
   "cell_type": "code",
   "execution_count": null,
   "metadata": {},
   "outputs": [],
   "source": [
    "result[0]['id']"
   ]
  },
  {
   "cell_type": "code",
   "execution_count": null,
   "metadata": {},
   "outputs": [],
   "source": [
    "eval(result[0].find('script',type=\"application/ld+json\").string)"
   ]
  },
  {
   "cell_type": "code",
   "execution_count": null,
   "metadata": {},
   "outputs": [],
   "source": [
    "key_list=['id','name','brand','type','features','size','price','category','image','rating','json','uomSalePrice']\n",
    "\n",
    "my_result=soup.body.find_all('a',id=re.compile('product-'))\n",
    "scrap_df=pd.DataFrame()\n",
    "i=0\n",
    "for record in my_result:\n",
    "    \n",
    "    name=record.find('span',class_=re.compile('responsive')).text.strip()\n",
    "    size=return_string(name,\"Milk,\",\"\")\n",
    "    json=eval(record.find('script',type=\"application/ld+json\").string)\n",
    "    id=json['id']\n",
    "    brand=json['brand']\n",
    "    category=json['category']\n",
    "    price=json['price']\n",
    "    search_string=record['aria-label'].strip()\n",
    "    features=return_string(search_string,\"Features:\",\"\")\n",
    "  #  rating=return_string(search_string,\"Rated\",\"stars\")\n",
    "    uomSalePrice=record.find('span',class_=re.compile('uomSalePrice')).text.strip()\n",
    "    image=record.find('img',src=re.compile('prd-small'))['src']\n",
    "    if record.find('img',src=re.compile('coupon'))==None:\n",
    "        coupon=0\n",
    "    else:\n",
    "        coupon=1\n",
    "    print(i)\n",
    "    print (f'{name} \\n{size}\\n\\n{id}\\n{brand}\\n{category}\\n{price}\\n{features}\\n{coupon}\\n{uomSalePrice}\\n{image}')\n",
    "    print('___________________')\n",
    "    i+=1\n",
    "    scrap_df = scrap_df.append({'id':id,\n",
    "                                'name': name,\n",
    "                                'brand':brand,\n",
    "                                'size':size,\n",
    "                                'category':category,\n",
    "                                'price':price,\n",
    "                                'features':features,\n",
    "                                'coupon':coupon,\n",
    "                                'uomSalePrice':uomSalePrice,\n",
    "                                'image':image,\n",
    "                               }, ignore_index=True)\n",
    "    \n",
    "    "
   ]
  },
  {
   "cell_type": "code",
   "execution_count": null,
   "metadata": {},
   "outputs": [],
   "source": [
    "scrap_df"
   ]
  },
  {
   "cell_type": "code",
   "execution_count": null,
   "metadata": {},
   "outputs": [],
   "source": [
    "scrap_df[scrap_df.isna().any(axis=1)]\n",
    "\n"
   ]
  },
  {
   "cell_type": "code",
   "execution_count": null,
   "metadata": {},
   "outputs": [],
   "source": [
    "re.compile(\"n*\")\n",
    "\n"
   ]
  },
  {
   "cell_type": "code",

   "execution_count": 50,
   "id": "brazilian-dominican",

   "execution_count": null,
   "metadata": {},
   "outputs": [],
   "source": [
    "scrap_df.to_csv('heb.csv')"
   ]
  },
  {
   "cell_type": "code",
   "execution_count": null,

   "metadata": {},
   "outputs": [],
   "source": [
    "driver.close()"
   ]
  },
  {
   "cell_type": "code",
   "execution_count": null,
   "id": "decent-phrase",
   "metadata": {},
   "outputs": [],
   "source": []
  }
 ],
 "metadata": {
  "kernelspec": {
   "display_name": "Python 3",
   "language": "python",
   "name": "python3"
  },
  "language_info": {
   "codemirror_mode": {
    "name": "ipython",
    "version": 3
   },
   "file_extension": ".py",
   "mimetype": "text/x-python",
   "name": "python",
   "nbconvert_exporter": "python",
   "pygments_lexer": "ipython3",
   "version": "3.9.1"
  }
 },
 "nbformat": 4,
 "nbformat_minor": 5
}
