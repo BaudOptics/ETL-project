{
 "cells": [
  {
   "cell_type": "code",
   "execution_count": null,
   "id": "stable-dividend",
   "metadata": {},
   "outputs": [],
   "source": [
    "from bs4 import BeautifulSoup as bs \n",
    "import pandas as pd\n",
    "import re\n",
    "from selenium import webdriver \n",
    "#from selenium.webdriver.common.keys import Keys\n",
    "import time"
   ]
  },
  {
   "cell_type": "code",
   "execution_count": null,
   "id": "turned-leonard",
   "metadata": {},
   "outputs": [],
   "source": [
    "from fuzzywuzzy import fuzz\n",
    "from fuzzywuzzy import process"
   ]
  },
  {
   "cell_type": "code",
   "execution_count": null,
   "id": "apparent-imaging",
   "metadata": {},
   "outputs": [],
   "source": [
    "# URL  of page for scraping\n",
    "url='https://heb.com'"
   ]
  },
  {
   "cell_type": "code",
   "execution_count": null,
   "id": "dynamic-myrtle",
   "metadata": {},
   "outputs": [],
   "source": [
    "driver = webdriver.Chrome('C://bin//chromedriver.exe')  \n",
    "driver.get(url) \n",
    "time.sleep(5)"
   ]
  },
  {
   "cell_type": "code",
   "execution_count": null,
   "id": "stainless-composition",
   "metadata": {},
   "outputs": [],
   "source": [
    "#clear button\n",
    "try:\n",
    "    py_button=driver.find_element_by_xpath(\"//button[@aria-label='Reset']\")\n",
    "    py_button.click()\n",
    "except:\n",
    "    print('no text yet')"
   ]
  },
  {
   "cell_type": "code",
   "execution_count": null,
   "id": "moved-recipient",
   "metadata": {},
   "outputs": [],
   "source": [
    "# click on search field\n",
    "py_button = driver.find_element_by_xpath(\"//input[@name='q']\")\n",
    "py_button.click()"
   ]
  },
  {
   "cell_type": "code",
   "execution_count": null,
   "id": "advisory-hello",
   "metadata": {},
   "outputs": [],
   "source": [
    "# search of Milk\n",
    "search_item='milk'\n",
    "py_button.send_keys(f'{search_item}')\n"
   ]
  },
  {
   "cell_type": "code",
   "execution_count": null,
   "id": "usual-lending",
   "metadata": {},
   "outputs": [],
   "source": [
    "# press search button ( wait 5 min)\n",
    "py_button=driver.find_element_by_xpath(\"//button[@aria-label='Search']\")\n",
    "py_button.click()\n",
    "time.sleep(5)"
   ]
  },
  {
   "cell_type": "code",
   "execution_count": null,
   "id": "taken-green",
   "metadata": {},
   "outputs": [],
   "source": []
  },
  {
   "cell_type": "code",
   "execution_count": null,
   "id": "going-violation",
   "metadata": {},
   "outputs": [],
   "source": [
    "\n",
    "response = driver.page_source\n",
    "soup=bs(response,'lxml')\n",
    "soup"
   ]
  },
  {
   "cell_type": "code",
   "execution_count": null,
   "id": "mediterranean-prairie",
   "metadata": {},
   "outputs": [],
   "source": [
    "result=soup.body.find_all('a',id=re.compile('product-'))\n",
    "result[4]"
   ]
  },
  {
   "cell_type": "code",
   "execution_count": null,
   "id": "bronze-minutes",
   "metadata": {},
   "outputs": [],
   "source": [
    "result[3]['aria-label'].strip()"
   ]
  },
  {
   "cell_type": "code",
   "execution_count": null,
   "id": "fixed-least",
   "metadata": {},
   "outputs": [],
   "source": [
    "result[0].find('span',class_=re.compile('responsive')).text.strip()"
   ]
  },
  {
   "cell_type": "code",
   "execution_count": null,
   "id": "consistent-association",
   "metadata": {},
   "outputs": [],
   "source": [
    "result[0]['id']"
   ]
  },
  {
   "cell_type": "code",
   "execution_count": null,
   "id": "cathedral-article",
   "metadata": {},
   "outputs": [],
   "source": [
    "eval(result[0].find('script',type=\"application/ld+json\").string)"
   ]
  },
  {
   "cell_type": "code",
   "execution_count": null,
   "id": "structured-producer",
   "metadata": {},
   "outputs": [],
   "source": [
    "key_list=['id','name','brand','type','features','size','price','category','image','rating','json']\n",
    "my_result=soup.body.find_all('a',id=re.compile('product-'))\n",
    "scrap_dic={}\n",
    "for record in my_result:\n",
    "    scrap_dic['id']=record['id']\n",
    "    scrap_dic['name']=record.find('span',class_=re.compile('responsive')).text.strip()\n",
    "    scrap_dic['json']=eval(record.find('script',type=\"application/ld+json\").string)\n",
    "    scrap_dic['brand']=scrap_dic['json']['brand']\n",
    "    scrap_dic['category']=scrap_dic['json']['category']\n",
    "    scrap_dic['price']=scrap_dic['json']['price']\n",
    "    scrap_dic['category']=scrap_dic['json']['category']\n",
    "    \n",
    "    "
   ]
  },
  {
   "cell_type": "code",
   "execution_count": null,
   "id": "behind-picture",
   "metadata": {},
   "outputs": [],
   "source": []
  },
  {
   "cell_type": "code",
   "execution_count": null,
   "id": "informative-helping",
   "metadata": {},
   "outputs": [],
   "source": [
    "len(result[0])"
   ]
  },
  {
   "cell_type": "code",
   "execution_count": null,
   "id": "promotional-innocent",
   "metadata": {},
   "outputs": [],
   "source": [
    "soup.body.find_all('div', class_='content_title').find_all('a')"
   ]
  },
  {
   "cell_type": "code",
   "execution_count": null,
   "id": "improved-dollar",
   "metadata": {},
   "outputs": [],
   "source": [
    "re.compile(\"n*\")\n",
    "\n"
   ]
  },
  {
   "cell_type": "code",
   "execution_count": null,
   "id": "superior-looking",
   "metadata": {},
   "outputs": [],
   "source": [
    "re.compile(\"n*\")\n",
    "\n"
   ]
  },
  {
   "cell_type": "code",
   "execution_count": null,
   "id": "binding-huntington",
   "metadata": {},
   "outputs": [],
   "source": []
  }
 ],
 "metadata": {
  "kernelspec": {
   "display_name": "Python 3",
   "language": "python",
   "name": "python3"
  },
  "language_info": {
   "codemirror_mode": {
    "name": "ipython",
    "version": 3
   },
   "file_extension": ".py",
   "mimetype": "text/x-python",
   "name": "python",
   "nbconvert_exporter": "python",
   "pygments_lexer": "ipython3",
   "version": "3.8.5"
  }
 },
 "nbformat": 4,
 "nbformat_minor": 5
}
