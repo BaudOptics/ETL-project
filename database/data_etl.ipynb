{
 "cells": [
  {
   "cell_type": "code",
   "execution_count": 1,
   "metadata": {},
   "outputs": [],
   "source": [
    "import pandas as pd\n",
    "from sqlalchemy import create_engine\n"
   ]
  },
  {
   "cell_type": "markdown",
   "metadata": {
    "slideshow": {
     "slide_type": "-"
    }
   },
   "source": [
    "### Store CSV into DataFrame"
   ]
  },
  {
   "cell_type": "code",
   "execution_count": 2,
   "metadata": {},
   "outputs": [],
   "source": [
    "from secrets import username, password\n"
   ]
  },
  {
   "cell_type": "code",
   "execution_count": 28,
   "metadata": {},
   "outputs": [
    {
     "data": {
      "text/html": [
       "<div>\n",
       "<style scoped>\n",
       "    .dataframe tbody tr th:only-of-type {\n",
       "        vertical-align: middle;\n",
       "    }\n",
       "\n",
       "    .dataframe tbody tr th {\n",
       "        vertical-align: top;\n",
       "    }\n",
       "\n",
       "    .dataframe thead th {\n",
       "        text-align: right;\n",
       "    }\n",
       "</style>\n",
       "<table border=\"1\" class=\"dataframe\">\n",
       "  <thead>\n",
       "    <tr style=\"text-align: right;\">\n",
       "      <th></th>\n",
       "      <th>Unnamed: 0</th>\n",
       "      <th>productId</th>\n",
       "      <th>categories</th>\n",
       "      <th>brand</th>\n",
       "      <th>description</th>\n",
       "      <th>size</th>\n",
       "      <th>price.regular</th>\n",
       "      <th>price.promo</th>\n",
       "      <th>Date</th>\n",
       "      <th>Store_Id</th>\n",
       "      <th>image</th>\n",
       "    </tr>\n",
       "  </thead>\n",
       "  <tbody>\n",
       "    <tr>\n",
       "      <th>0</th>\n",
       "      <td>0</td>\n",
       "      <td>1111040101</td>\n",
       "      <td>['Dairy']</td>\n",
       "      <td>Kroger</td>\n",
       "      <td>Kroger® Vitamin D Whole Milk</td>\n",
       "      <td>1 gal</td>\n",
       "      <td>2.99</td>\n",
       "      <td>0.0</td>\n",
       "      <td>02/08/2021</td>\n",
       "      <td>3400312</td>\n",
       "      <td>https://www.kroger.com/product/images/xlarge/f...</td>\n",
       "    </tr>\n",
       "    <tr>\n",
       "      <th>1</th>\n",
       "      <td>1</td>\n",
       "      <td>1111041600</td>\n",
       "      <td>['Dairy']</td>\n",
       "      <td>Kroger</td>\n",
       "      <td>Kroger® 2% Reduced Fat Milk</td>\n",
       "      <td>1/2 gal</td>\n",
       "      <td>1.99</td>\n",
       "      <td>0.0</td>\n",
       "      <td>02/08/2021</td>\n",
       "      <td>3400312</td>\n",
       "      <td>https://www.kroger.com/product/images/xlarge/f...</td>\n",
       "    </tr>\n",
       "    <tr>\n",
       "      <th>2</th>\n",
       "      <td>2</td>\n",
       "      <td>1111041660</td>\n",
       "      <td>['Dairy']</td>\n",
       "      <td>Kroger</td>\n",
       "      <td>Kroger® 1% Lowfat Milk</td>\n",
       "      <td>1 gal</td>\n",
       "      <td>2.99</td>\n",
       "      <td>0.0</td>\n",
       "      <td>02/08/2021</td>\n",
       "      <td>3400312</td>\n",
       "      <td>https://www.kroger.com/product/images/xlarge/f...</td>\n",
       "    </tr>\n",
       "    <tr>\n",
       "      <th>3</th>\n",
       "      <td>3</td>\n",
       "      <td>1111040601</td>\n",
       "      <td>['Dairy']</td>\n",
       "      <td>Kroger</td>\n",
       "      <td>Kroger® Vitamin D Whole Milk</td>\n",
       "      <td>1/2 gal</td>\n",
       "      <td>1.99</td>\n",
       "      <td>0.0</td>\n",
       "      <td>02/08/2021</td>\n",
       "      <td>3400312</td>\n",
       "      <td>https://www.kroger.com/product/images/xlarge/f...</td>\n",
       "    </tr>\n",
       "    <tr>\n",
       "      <th>4</th>\n",
       "      <td>4</td>\n",
       "      <td>1111042315</td>\n",
       "      <td>['Dairy']</td>\n",
       "      <td>Kroger</td>\n",
       "      <td>Kroger® Fat Free Skim Milk</td>\n",
       "      <td>1 gal</td>\n",
       "      <td>2.99</td>\n",
       "      <td>0.0</td>\n",
       "      <td>02/08/2021</td>\n",
       "      <td>3400312</td>\n",
       "      <td>https://www.kroger.com/product/images/xlarge/f...</td>\n",
       "    </tr>\n",
       "  </tbody>\n",
       "</table>\n",
       "</div>"
      ],
      "text/plain": [
       "   Unnamed: 0   productId categories   brand                   description  \\\n",
       "0           0  1111040101  ['Dairy']  Kroger  Kroger® Vitamin D Whole Milk   \n",
       "1           1  1111041600  ['Dairy']  Kroger   Kroger® 2% Reduced Fat Milk   \n",
       "2           2  1111041660  ['Dairy']  Kroger        Kroger® 1% Lowfat Milk   \n",
       "3           3  1111040601  ['Dairy']  Kroger  Kroger® Vitamin D Whole Milk   \n",
       "4           4  1111042315  ['Dairy']  Kroger    Kroger® Fat Free Skim Milk   \n",
       "\n",
       "      size  price.regular  price.promo        Date  Store_Id  \\\n",
       "0    1 gal           2.99          0.0  02/08/2021   3400312   \n",
       "1  1/2 gal           1.99          0.0  02/08/2021   3400312   \n",
       "2    1 gal           2.99          0.0  02/08/2021   3400312   \n",
       "3  1/2 gal           1.99          0.0  02/08/2021   3400312   \n",
       "4    1 gal           2.99          0.0  02/08/2021   3400312   \n",
       "\n",
       "                                               image  \n",
       "0  https://www.kroger.com/product/images/xlarge/f...  \n",
       "1  https://www.kroger.com/product/images/xlarge/f...  \n",
       "2  https://www.kroger.com/product/images/xlarge/f...  \n",
       "3  https://www.kroger.com/product/images/xlarge/f...  \n",
       "4  https://www.kroger.com/product/images/xlarge/f...  "
      ]
     },
     "execution_count": 28,
     "metadata": {},
     "output_type": "execute_result"
    }
   ],
   "source": [
    "csv_file = \"../kroger/kroger_milk_prices.csv\"\n",
    "kroger_data_df = pd.read_csv(csv_file)\n",
    "kroger_data_df.head()"
   ]
  },
  {
   "cell_type": "code",
   "execution_count": 39,
   "metadata": {},
   "outputs": [
    {
     "data": {
      "text/html": [
       "<div>\n",
       "<style scoped>\n",
       "    .dataframe tbody tr th:only-of-type {\n",
       "        vertical-align: middle;\n",
       "    }\n",
       "\n",
       "    .dataframe tbody tr th {\n",
       "        vertical-align: top;\n",
       "    }\n",
       "\n",
       "    .dataframe thead th {\n",
       "        text-align: right;\n",
       "    }\n",
       "</style>\n",
       "<table border=\"1\" class=\"dataframe\">\n",
       "  <thead>\n",
       "    <tr style=\"text-align: right;\">\n",
       "      <th></th>\n",
       "      <th>product_id</th>\n",
       "      <th>category</th>\n",
       "      <th>Brand</th>\n",
       "      <th>size</th>\n",
       "      <th>image</th>\n",
       "      <th>features</th>\n",
       "    </tr>\n",
       "  </thead>\n",
       "  <tbody>\n",
       "    <tr>\n",
       "      <th>0</th>\n",
       "      <td>1111040101</td>\n",
       "      <td>['Dairy']</td>\n",
       "      <td>Kroger</td>\n",
       "      <td>1 gal</td>\n",
       "      <td>https://www.kroger.com/product/images/xlarge/f...</td>\n",
       "      <td>none</td>\n",
       "    </tr>\n",
       "    <tr>\n",
       "      <th>1</th>\n",
       "      <td>1111041600</td>\n",
       "      <td>['Dairy']</td>\n",
       "      <td>Kroger</td>\n",
       "      <td>1/2 gal</td>\n",
       "      <td>https://www.kroger.com/product/images/xlarge/f...</td>\n",
       "      <td>none</td>\n",
       "    </tr>\n",
       "    <tr>\n",
       "      <th>2</th>\n",
       "      <td>1111041660</td>\n",
       "      <td>['Dairy']</td>\n",
       "      <td>Kroger</td>\n",
       "      <td>1 gal</td>\n",
       "      <td>https://www.kroger.com/product/images/xlarge/f...</td>\n",
       "      <td>none</td>\n",
       "    </tr>\n",
       "    <tr>\n",
       "      <th>3</th>\n",
       "      <td>1111040601</td>\n",
       "      <td>['Dairy']</td>\n",
       "      <td>Kroger</td>\n",
       "      <td>1/2 gal</td>\n",
       "      <td>https://www.kroger.com/product/images/xlarge/f...</td>\n",
       "      <td>none</td>\n",
       "    </tr>\n",
       "    <tr>\n",
       "      <th>4</th>\n",
       "      <td>1111042315</td>\n",
       "      <td>['Dairy']</td>\n",
       "      <td>Kroger</td>\n",
       "      <td>1 gal</td>\n",
       "      <td>https://www.kroger.com/product/images/xlarge/f...</td>\n",
       "      <td>none</td>\n",
       "    </tr>\n",
       "  </tbody>\n",
       "</table>\n",
       "</div>"
      ],
      "text/plain": [
       "   product_id   category   Brand     size  \\\n",
       "0  1111040101  ['Dairy']  Kroger    1 gal   \n",
       "1  1111041600  ['Dairy']  Kroger  1/2 gal   \n",
       "2  1111041660  ['Dairy']  Kroger    1 gal   \n",
       "3  1111040601  ['Dairy']  Kroger  1/2 gal   \n",
       "4  1111042315  ['Dairy']  Kroger    1 gal   \n",
       "\n",
       "                                               image features  \n",
       "0  https://www.kroger.com/product/images/xlarge/f...     none  \n",
       "1  https://www.kroger.com/product/images/xlarge/f...     none  \n",
       "2  https://www.kroger.com/product/images/xlarge/f...     none  \n",
       "3  https://www.kroger.com/product/images/xlarge/f...     none  \n",
       "4  https://www.kroger.com/product/images/xlarge/f...     none  "
      ]
     },
     "execution_count": 39,
     "metadata": {},
     "output_type": "execute_result"
    }
   ],
   "source": [
    "milk_df = kroger_data_df\n",
    "milk_df = milk_df.drop(columns=['Unnamed: 0', 'description' , 'price.regular', 'price.promo', 'Date', 'Store_Id'])\n",
    "features = 'none'\n",
    "milk_df['features'] = features\n",
    "# milk_type = 1\n",
    "# milk_df['Type_ID'] = milk_type\n",
    "milk_df = milk_df.rename(columns={\"productId\": \"product_id\", \"brand\": \"Brand\" , \"categories\" : \"category\"})\n",
    "milk_df.head()"
   ]
  },
  {
   "cell_type": "code",
   "execution_count": 35,
   "metadata": {},
   "outputs": [
    {
     "data": {
      "text/html": [
       "<div>\n",
       "<style scoped>\n",
       "    .dataframe tbody tr th:only-of-type {\n",
       "        vertical-align: middle;\n",
       "    }\n",
       "\n",
       "    .dataframe tbody tr th {\n",
       "        vertical-align: top;\n",
       "    }\n",
       "\n",
       "    .dataframe thead th {\n",
       "        text-align: right;\n",
       "    }\n",
       "</style>\n",
       "<table border=\"1\" class=\"dataframe\">\n",
       "  <thead>\n",
       "    <tr style=\"text-align: right;\">\n",
       "      <th></th>\n",
       "      <th>Store_Id</th>\n",
       "      <th>Store_Zipcode</th>\n",
       "      <th>Store_Name</th>\n",
       "    </tr>\n",
       "  </thead>\n",
       "  <tbody>\n",
       "    <tr>\n",
       "      <th>0</th>\n",
       "      <td>3400312</td>\n",
       "      <td>77007</td>\n",
       "      <td>Kroger</td>\n",
       "    </tr>\n",
       "    <tr>\n",
       "      <th>1</th>\n",
       "      <td>3400312</td>\n",
       "      <td>77007</td>\n",
       "      <td>Kroger</td>\n",
       "    </tr>\n",
       "    <tr>\n",
       "      <th>2</th>\n",
       "      <td>3400312</td>\n",
       "      <td>77007</td>\n",
       "      <td>Kroger</td>\n",
       "    </tr>\n",
       "    <tr>\n",
       "      <th>3</th>\n",
       "      <td>3400312</td>\n",
       "      <td>77007</td>\n",
       "      <td>Kroger</td>\n",
       "    </tr>\n",
       "    <tr>\n",
       "      <th>4</th>\n",
       "      <td>3400312</td>\n",
       "      <td>77007</td>\n",
       "      <td>Kroger</td>\n",
       "    </tr>\n",
       "    <tr>\n",
       "      <th>...</th>\n",
       "      <td>...</td>\n",
       "      <td>...</td>\n",
       "      <td>...</td>\n",
       "    </tr>\n",
       "    <tr>\n",
       "      <th>995</th>\n",
       "      <td>3400312</td>\n",
       "      <td>77007</td>\n",
       "      <td>Kroger</td>\n",
       "    </tr>\n",
       "    <tr>\n",
       "      <th>996</th>\n",
       "      <td>3400312</td>\n",
       "      <td>77007</td>\n",
       "      <td>Kroger</td>\n",
       "    </tr>\n",
       "    <tr>\n",
       "      <th>997</th>\n",
       "      <td>3400312</td>\n",
       "      <td>77007</td>\n",
       "      <td>Kroger</td>\n",
       "    </tr>\n",
       "    <tr>\n",
       "      <th>998</th>\n",
       "      <td>3400312</td>\n",
       "      <td>77007</td>\n",
       "      <td>Kroger</td>\n",
       "    </tr>\n",
       "    <tr>\n",
       "      <th>999</th>\n",
       "      <td>3400312</td>\n",
       "      <td>77007</td>\n",
       "      <td>Kroger</td>\n",
       "    </tr>\n",
       "  </tbody>\n",
       "</table>\n",
       "<p>1000 rows × 3 columns</p>\n",
       "</div>"
      ],
      "text/plain": [
       "     Store_Id  Store_Zipcode Store_Name\n",
       "0     3400312          77007     Kroger\n",
       "1     3400312          77007     Kroger\n",
       "2     3400312          77007     Kroger\n",
       "3     3400312          77007     Kroger\n",
       "4     3400312          77007     Kroger\n",
       "..        ...            ...        ...\n",
       "995   3400312          77007     Kroger\n",
       "996   3400312          77007     Kroger\n",
       "997   3400312          77007     Kroger\n",
       "998   3400312          77007     Kroger\n",
       "999   3400312          77007     Kroger\n",
       "\n",
       "[1000 rows x 3 columns]"
      ]
     },
     "execution_count": 35,
     "metadata": {},
     "output_type": "execute_result"
    }
   ],
   "source": [
    "store_df = kroger_data_df[['Store_Id']].copy()\n",
    "zipcode = 77007\n",
    "store_df['Store_Zipcode'] = zipcode\n",
    "name = \"Kroger\"\n",
    "store_df['Store_Name'] = name\n",
    "store_df"
   ]
  },
  {
   "cell_type": "code",
   "execution_count": 47,
   "metadata": {},
   "outputs": [
    {
     "data": {
      "text/html": [
       "<div>\n",
       "<style scoped>\n",
       "    .dataframe tbody tr th:only-of-type {\n",
       "        vertical-align: middle;\n",
       "    }\n",
       "\n",
       "    .dataframe tbody tr th {\n",
       "        vertical-align: top;\n",
       "    }\n",
       "\n",
       "    .dataframe thead th {\n",
       "        text-align: right;\n",
       "    }\n",
       "</style>\n",
       "<table border=\"1\" class=\"dataframe\">\n",
       "  <thead>\n",
       "    <tr style=\"text-align: right;\">\n",
       "      <th></th>\n",
       "      <th>Type</th>\n",
       "    </tr>\n",
       "  </thead>\n",
       "  <tbody>\n",
       "    <tr>\n",
       "      <th>0</th>\n",
       "      <td>1%</td>\n",
       "    </tr>\n",
       "    <tr>\n",
       "      <th>1</th>\n",
       "      <td>2%</td>\n",
       "    </tr>\n",
       "    <tr>\n",
       "      <th>2</th>\n",
       "      <td>whole</td>\n",
       "    </tr>\n",
       "    <tr>\n",
       "      <th>3</th>\n",
       "      <td>skim</td>\n",
       "    </tr>\n",
       "    <tr>\n",
       "      <th>4</th>\n",
       "      <td>almond</td>\n",
       "    </tr>\n",
       "  </tbody>\n",
       "</table>\n",
       "</div>"
      ],
      "text/plain": [
       "     Type\n",
       "0      1%\n",
       "1      2%\n",
       "2   whole\n",
       "3    skim\n",
       "4  almond"
      ]
     },
     "execution_count": 47,
     "metadata": {},
     "output_type": "execute_result"
    }
   ],
   "source": [
    "milk_type_df = pd.DataFrame()\n",
    "milk_type = ['1%' , \"2%\", 'whole', 'skim', 'almond', 'other']\n",
    "milk_type_df['Type'] = milk_type\n",
    "milk_type_df.head()"
   ]
  },
  {
   "cell_type": "code",
   "execution_count": 48,
   "metadata": {},
   "outputs": [
    {
     "data": {
      "text/html": [
       "<div>\n",
       "<style scoped>\n",
       "    .dataframe tbody tr th:only-of-type {\n",
       "        vertical-align: middle;\n",
       "    }\n",
       "\n",
       "    .dataframe tbody tr th {\n",
       "        vertical-align: top;\n",
       "    }\n",
       "\n",
       "    .dataframe thead th {\n",
       "        text-align: right;\n",
       "    }\n",
       "</style>\n",
       "<table border=\"1\" class=\"dataframe\">\n",
       "  <thead>\n",
       "    <tr style=\"text-align: right;\">\n",
       "      <th></th>\n",
       "      <th>Date</th>\n",
       "      <th>price.regular</th>\n",
       "      <th>price.promo</th>\n",
       "    </tr>\n",
       "  </thead>\n",
       "  <tbody>\n",
       "    <tr>\n",
       "      <th>0</th>\n",
       "      <td>02/08/2021</td>\n",
       "      <td>2.99</td>\n",
       "      <td>0.0</td>\n",
       "    </tr>\n",
       "    <tr>\n",
       "      <th>1</th>\n",
       "      <td>02/08/2021</td>\n",
       "      <td>1.99</td>\n",
       "      <td>0.0</td>\n",
       "    </tr>\n",
       "    <tr>\n",
       "      <th>2</th>\n",
       "      <td>02/08/2021</td>\n",
       "      <td>2.99</td>\n",
       "      <td>0.0</td>\n",
       "    </tr>\n",
       "    <tr>\n",
       "      <th>3</th>\n",
       "      <td>02/08/2021</td>\n",
       "      <td>1.99</td>\n",
       "      <td>0.0</td>\n",
       "    </tr>\n",
       "    <tr>\n",
       "      <th>4</th>\n",
       "      <td>02/08/2021</td>\n",
       "      <td>2.99</td>\n",
       "      <td>0.0</td>\n",
       "    </tr>\n",
       "  </tbody>\n",
       "</table>\n",
       "</div>"
      ],
      "text/plain": [
       "         Date  price.regular  price.promo\n",
       "0  02/08/2021           2.99          0.0\n",
       "1  02/08/2021           1.99          0.0\n",
       "2  02/08/2021           2.99          0.0\n",
       "3  02/08/2021           1.99          0.0\n",
       "4  02/08/2021           2.99          0.0"
      ]
     },
     "execution_count": 48,
     "metadata": {},
     "output_type": "execute_result"
    }
   ],
   "source": [
    "price_history_df = kroger_data_df[['Date', 'price.regular', 'price.promo']].copy()\n",
    "price_history_df =price_history_df.rename(columns={\n",
    "price_history_df.head()"
   ]
  },
  {
   "cell_type": "markdown",
   "metadata": {},
   "source": [
    "### Connect to local database"
   ]
  },
  {
   "cell_type": "code",
   "execution_count": 17,
   "metadata": {},
   "outputs": [],
   "source": [
    "rds_connection_string = f\"{username}:{password}@localhost:5432/milk_db\"\n",
    "engine = create_engine(f'postgresql://{rds_connection_string}')"
   ]
  },
  {
   "cell_type": "markdown",
   "metadata": {},
   "source": [
    "### Check for tables"
   ]
  },
  {
   "cell_type": "code",
   "execution_count": 18,
   "metadata": {},
   "outputs": [
    {
     "data": {
      "text/plain": [
       "['Store', 'Milk', 'Milk_Type', 'Price_History']"
      ]
     },
     "execution_count": 18,
     "metadata": {},
     "output_type": "execute_result"
    }
   ],
   "source": [
    "engine.table_names()"
   ]
  },
  {
   "cell_type": "markdown",
   "metadata": {},
   "source": [
    "### Use pandas to load csv converted DataFrame into database"
   ]
  },
  {
   "cell_type": "code",
   "execution_count": 13,
   "metadata": {},
   "outputs": [],
   "source": [
    "new_customer_data_df.to_sql(name='customer_name', con=engine, if_exists='append', index=False)"
   ]
  },
  {
   "cell_type": "markdown",
   "metadata": {},
   "source": [
    "### Use pandas to load json converted DataFrame into database"
   ]
  },
  {
   "cell_type": "code",
   "execution_count": 14,
   "metadata": {},
   "outputs": [],
   "source": [
    "new_customer_location_df.to_sql(name='customer_location', con=engine, if_exists='append', index=False)"
   ]
  },
  {
   "cell_type": "markdown",
   "metadata": {},
   "source": [
    "### Confirm data has been added by querying the customer_name table\n",
    "* NOTE: can also check using pgAdmin"
   ]
  },
  {
   "cell_type": "code",
   "execution_count": 15,
   "metadata": {},
   "outputs": [
    {
     "data": {
      "text/html": [
       "<div>\n",
       "<style scoped>\n",
       "    .dataframe tbody tr th:only-of-type {\n",
       "        vertical-align: middle;\n",
       "    }\n",
       "\n",
       "    .dataframe tbody tr th {\n",
       "        vertical-align: top;\n",
       "    }\n",
       "\n",
       "    .dataframe thead th {\n",
       "        text-align: right;\n",
       "    }\n",
       "</style>\n",
       "<table border=\"1\" class=\"dataframe\">\n",
       "  <thead>\n",
       "    <tr style=\"text-align: right;\">\n",
       "      <th></th>\n",
       "      <th>id</th>\n",
       "      <th>first_name</th>\n",
       "      <th>last_name</th>\n",
       "    </tr>\n",
       "  </thead>\n",
       "  <tbody>\n",
       "    <tr>\n",
       "      <th>0</th>\n",
       "      <td>1</td>\n",
       "      <td>Benetta</td>\n",
       "      <td>Cancott</td>\n",
       "    </tr>\n",
       "    <tr>\n",
       "      <th>1</th>\n",
       "      <td>2</td>\n",
       "      <td>Lilyan</td>\n",
       "      <td>Cherry</td>\n",
       "    </tr>\n",
       "    <tr>\n",
       "      <th>2</th>\n",
       "      <td>3</td>\n",
       "      <td>Ezekiel</td>\n",
       "      <td>Benasik</td>\n",
       "    </tr>\n",
       "    <tr>\n",
       "      <th>3</th>\n",
       "      <td>4</td>\n",
       "      <td>Kennedy</td>\n",
       "      <td>Atlay</td>\n",
       "    </tr>\n",
       "    <tr>\n",
       "      <th>4</th>\n",
       "      <td>5</td>\n",
       "      <td>Sanford</td>\n",
       "      <td>Salmen</td>\n",
       "    </tr>\n",
       "  </tbody>\n",
       "</table>\n",
       "</div>"
      ],
      "text/plain": [
       "   id first_name last_name\n",
       "0   1    Benetta   Cancott\n",
       "1   2     Lilyan    Cherry\n",
       "2   3    Ezekiel   Benasik\n",
       "3   4    Kennedy     Atlay\n",
       "4   5    Sanford    Salmen"
      ]
     },
     "execution_count": 15,
     "metadata": {},
     "output_type": "execute_result"
    }
   ],
   "source": [
    "pd.read_sql_query('select * from customer_name', con=engine).head()"
   ]
  },
  {
   "cell_type": "markdown",
   "metadata": {},
   "source": [
    "### Confirm data has been added by querying the customer_location table"
   ]
  },
  {
   "cell_type": "code",
   "execution_count": 16,
   "metadata": {},
   "outputs": [
    {
     "data": {
      "text/html": [
       "<div>\n",
       "<style scoped>\n",
       "    .dataframe tbody tr th:only-of-type {\n",
       "        vertical-align: middle;\n",
       "    }\n",
       "\n",
       "    .dataframe tbody tr th {\n",
       "        vertical-align: top;\n",
       "    }\n",
       "\n",
       "    .dataframe thead th {\n",
       "        text-align: right;\n",
       "    }\n",
       "</style>\n",
       "<table border=\"1\" class=\"dataframe\">\n",
       "  <thead>\n",
       "    <tr style=\"text-align: right;\">\n",
       "      <th></th>\n",
       "      <th>id</th>\n",
       "      <th>address</th>\n",
       "      <th>us_state</th>\n",
       "    </tr>\n",
       "  </thead>\n",
       "  <tbody>\n",
       "    <tr>\n",
       "      <th>0</th>\n",
       "      <td>1</td>\n",
       "      <td>043 Mockingbird Place</td>\n",
       "      <td>Indiana</td>\n",
       "    </tr>\n",
       "    <tr>\n",
       "      <th>1</th>\n",
       "      <td>2</td>\n",
       "      <td>4 Prentice Point</td>\n",
       "      <td>Indiana</td>\n",
       "    </tr>\n",
       "    <tr>\n",
       "      <th>2</th>\n",
       "      <td>3</td>\n",
       "      <td>46 Derek Junction</td>\n",
       "      <td>Texas</td>\n",
       "    </tr>\n",
       "    <tr>\n",
       "      <th>3</th>\n",
       "      <td>4</td>\n",
       "      <td>11966 Old Shore Place</td>\n",
       "      <td>Missouri</td>\n",
       "    </tr>\n",
       "    <tr>\n",
       "      <th>4</th>\n",
       "      <td>5</td>\n",
       "      <td>5 Evergreen Circle</td>\n",
       "      <td>New York</td>\n",
       "    </tr>\n",
       "  </tbody>\n",
       "</table>\n",
       "</div>"
      ],
      "text/plain": [
       "   id                address  us_state\n",
       "0   1  043 Mockingbird Place   Indiana\n",
       "1   2       4 Prentice Point   Indiana\n",
       "2   3      46 Derek Junction     Texas\n",
       "3   4  11966 Old Shore Place  Missouri\n",
       "4   5     5 Evergreen Circle  New York"
      ]
     },
     "execution_count": 16,
     "metadata": {},
     "output_type": "execute_result"
    }
   ],
   "source": [
    "pd.read_sql_query('select * from customer_location', con=engine).head()"
   ]
  },
  {
   "cell_type": "code",
   "execution_count": null,
   "metadata": {},
   "outputs": [],
   "source": []
  }
 ],
 "metadata": {
  "kernelspec": {
   "display_name": "Python 3",
   "language": "python",
   "name": "python3"
  },
  "language_info": {
   "codemirror_mode": {
    "name": "ipython",
    "version": 3
   },
   "file_extension": ".py",
   "mimetype": "text/x-python",
   "name": "python",
   "nbconvert_exporter": "python",
   "pygments_lexer": "ipython3",
   "version": "3.9.1"
  },
  "nteract": {
   "version": "0.12.3"
  }
 },
 "nbformat": 4,
 "nbformat_minor": 2
}
