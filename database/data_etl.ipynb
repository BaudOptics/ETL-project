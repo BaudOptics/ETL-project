{
 "cells": [
  {
   "cell_type": "code",
   "execution_count": 1,
   "metadata": {},
   "outputs": [],
   "source": [
    "import pandas as pd\n",
    "from sqlalchemy import create_engine\n"
   ]
  },
  {
   "cell_type": "markdown",
   "metadata": {},
   "source": [
    "# Make sure database is created in Postgres using Schema.sql file"
   ]
  },
  {
   "cell_type": "code",
   "execution_count": 2,
   "metadata": {},
   "outputs": [],
   "source": [
    "from secrets import username, password\n"
   ]
  },
  {
   "cell_type": "markdown",
   "metadata": {},
   "source": [
    "# Read in and put into a database the Kroger products"
   ]
  },
  {
   "cell_type": "code",
   "execution_count": 3,
   "metadata": {
    "scrolled": true
   },
   "outputs": [],
   "source": [
    "csv_file = \"../data/Kroger_clean.csv\"\n",
    "kroger_data_df = pd.read_csv(csv_file)\n",
    "#kroger_data_df.head()\n"
   ]
  },
  {
   "cell_type": "markdown",
   "metadata": {},
   "source": [
    "# Read in and put into a database HEB Products"
   ]
  },
  {
   "cell_type": "code",
   "execution_count": 4,
   "metadata": {
    "scrolled": true
   },
   "outputs": [
    {
     "name": "stderr",
     "output_type": "stream",
     "text": [
      "<ipython-input-4-6d158b8f0a2e>:9: FutureWarning: The pandas.datetime class is deprecated and will be removed from pandas in a future version. Import from datetime module instead.\n",
      "  today = pd.datetime.now().date()\n"
     ]
    }
   ],
   "source": [
    "path = \"../data/heb_clean.csv\"\n",
    "heb_data_df = pd.read_csv(path)\n",
    "heb_milk = heb_data_df.drop(columns=['coupon', 'name' , 'price', 'uomSalePrice', 'simple_type'])\n",
    "milk_type_file = \"../data/heb_milk_vs_types.csv\"\n",
    "milk_type_df = pd.read_csv(milk_type_file)\n",
    "heb_milk = heb_milk.merge(milk_type_df, on = 'id')\n",
    "heb_milk = heb_milk.rename(columns= {'id':'product_id' , 'brand' : 'Brand'})\n",
    "heb_milk['Store_Number'] = 1111111\n",
    "today = pd.datetime.now().date()\n",
    "heb_data_df['Date'] = today\n",
    "#heb_data_df.head()\n",
    "heb_milk = heb_milk.drop(columns = ['type_x','types'])\n",
    "heb_milk = heb_milk.rename(columns = {'type_y' : 'type'})\n",
    "#heb_milk\n"
   ]
  },
  {
   "cell_type": "markdown",
   "metadata": {},
   "source": [
    "# Create dataframe to match Milk database table. Merge HEB and Kroger milk dataframes."
   ]
  },
  {
   "cell_type": "code",
   "execution_count": 5,
   "metadata": {},
   "outputs": [],
   "source": [
    "milk_df = kroger_data_df\n",
    "milk_df = milk_df.drop(columns=['description' , 'price.regular', 'price.promo', 'Date'])\n",
    "features = 'none'\n",
    "milk_df['features'] = features\n",
    "kroger_milk_type_file = \"../data/kroger_milk_vs_types.csv\"\n",
    "kroger_milk_type_df = pd.read_csv(kroger_milk_type_file)\n",
    "kroger_milk_type_df = kroger_milk_type_df.rename(columns = {'id' : 'productId'})\n",
    "milk_df = milk_df.merge(kroger_milk_type_df, on = 'productId')\n",
    "milk_df = milk_df.drop(columns=['types'])\n",
    "milk_df = milk_df.rename(columns={\"productId\": \"product_id\", \"brand\": \"Brand\" , \"categories\" : \"category\" , 'Store_Id' : 'Store_Number'})\n",
    "complete_milk = pd.concat([milk_df, heb_milk])\n",
    "#complete_milk\n"
   ]
  },
  {
   "cell_type": "markdown",
   "metadata": {},
   "source": [
    "# Create and populate Store dataframe for Store database table. Will be automated once more stores are added in future itterations of project."
   ]
  },
  {
   "cell_type": "code",
   "execution_count": 6,
   "metadata": {},
   "outputs": [],
   "source": [
    "store_df = pd.DataFrame()\n",
    "store_id = 3400312 , 1111111\n",
    "store_df[\"Store_Number\"] = store_id\n",
    "zipcode = 77007 , 77007\n",
    "store_df['Store_Zipcode'] = zipcode\n",
    "name = \"Kroger\" , \"HEB\"\n",
    "store_df['Store_Name'] = name\n",
    "#store_df.head()"
   ]
  },
  {
   "cell_type": "code",
   "execution_count": null,
   "metadata": {},
   "outputs": [],
   "source": []
  },
  {
   "cell_type": "markdown",
   "metadata": {},
   "source": [
    "# Read in and create dataframe for milk types. Formatted for database table.\n",
    "\n"
   ]
  },
  {
   "cell_type": "code",
   "execution_count": 7,
   "metadata": {},
   "outputs": [],
   "source": [
    "milk_type_file = \"../data/milk_types.csv\"\n",
    "milk_type_df = pd.read_csv(milk_type_file)\n",
    "milk_type_df['Full_Name'] = 'Almond-Milk' , 'Chocolate-Milk', 'Reduced-Fat-Milk', 'Lactose-Free-Milk', 'Oat-Milk', 'Organic-Milk', 'Other', 'Powder-Milk', 'Protein-Product' , 'Whole'\n",
    "milk_type_df = milk_type_df.rename(columns={'count_id' : 'count'})\n",
    "#milk_type_df"
   ]
  },
  {
   "cell_type": "code",
   "execution_count": null,
   "metadata": {},
   "outputs": [],
   "source": []
  },
  {
   "cell_type": "markdown",
   "metadata": {},
   "source": [
    "# Connect to local database"
   ]
  },
  {
   "cell_type": "code",
   "execution_count": 8,
   "metadata": {},
   "outputs": [],
   "source": [
    "rds_connection_string = f\"{username}:{password}@localhost:5432/milk_db\"\n",
    "engine = create_engine(f'postgresql://{rds_connection_string}')"
   ]
  },
  {
   "cell_type": "markdown",
   "metadata": {},
   "source": [
    "# Check for tables"
   ]
  },
  {
   "cell_type": "code",
   "execution_count": 9,
   "metadata": {},
   "outputs": [
    {
     "data": {
      "text/plain": [
       "['Store', 'Milk', 'Milk_Type', 'Price_History']"
      ]
     },
     "execution_count": 9,
     "metadata": {},
     "output_type": "execute_result"
    }
   ],
   "source": [
    "engine.table_names()"
   ]
  },
  {
   "cell_type": "markdown",
   "metadata": {},
   "source": [
    "# Use drop duplicates to only add updated data to a dataframe that is then loaded into the database"
   ]
  },
  {
   "cell_type": "code",
   "execution_count": 10,
   "metadata": {},
   "outputs": [],
   "source": [
    "temp_store = pd.read_sql_query('select * from \"Store\"', con=engine)\n",
    "temp_store = temp_store.drop(columns = 'id')\n",
    "#temp_store"
   ]
  },
  {
   "cell_type": "code",
   "execution_count": 11,
   "metadata": {},
   "outputs": [],
   "source": [
    "db_store = pd.concat([temp_store, store_df]).drop_duplicates(keep=False)\n",
    "db_store = db_store.reset_index(drop=True)   \n",
    "#db_store.head()"
   ]
  },
  {
   "cell_type": "markdown",
   "metadata": {},
   "source": [
    "# Use pandas to load csv converted DataFrame into database"
   ]
  },
  {
   "cell_type": "code",
   "execution_count": 12,
   "metadata": {},
   "outputs": [],
   "source": [
    "db_store.to_sql(name='Store', con=engine, if_exists='append', index=False)"
   ]
  },
  {
   "cell_type": "markdown",
   "metadata": {},
   "source": [
    "# Confirm data has been added by querying the table"
   ]
  },
  {
   "cell_type": "code",
   "execution_count": 13,
   "metadata": {},
   "outputs": [
    {
     "data": {
      "text/html": [
       "<div>\n",
       "<style scoped>\n",
       "    .dataframe tbody tr th:only-of-type {\n",
       "        vertical-align: middle;\n",
       "    }\n",
       "\n",
       "    .dataframe tbody tr th {\n",
       "        vertical-align: top;\n",
       "    }\n",
       "\n",
       "    .dataframe thead th {\n",
       "        text-align: right;\n",
       "    }\n",
       "</style>\n",
       "<table border=\"1\" class=\"dataframe\">\n",
       "  <thead>\n",
       "    <tr style=\"text-align: right;\">\n",
       "      <th></th>\n",
       "      <th>id</th>\n",
       "      <th>Store_Number</th>\n",
       "      <th>Store_Name</th>\n",
       "      <th>Store_Zipcode</th>\n",
       "    </tr>\n",
       "  </thead>\n",
       "  <tbody>\n",
       "    <tr>\n",
       "      <th>0</th>\n",
       "      <td>1</td>\n",
       "      <td>3400312</td>\n",
       "      <td>Kroger</td>\n",
       "      <td>77007</td>\n",
       "    </tr>\n",
       "    <tr>\n",
       "      <th>1</th>\n",
       "      <td>2</td>\n",
       "      <td>1111111</td>\n",
       "      <td>HEB</td>\n",
       "      <td>77007</td>\n",
       "    </tr>\n",
       "  </tbody>\n",
       "</table>\n",
       "</div>"
      ],
      "text/plain": [
       "   id  Store_Number Store_Name  Store_Zipcode\n",
       "0   1       3400312     Kroger          77007\n",
       "1   2       1111111        HEB          77007"
      ]
     },
     "execution_count": 13,
     "metadata": {},
     "output_type": "execute_result"
    }
   ],
   "source": [
    "pd.read_sql_query('select * from \"Store\"', con=engine).head()"
   ]
  },
  {
   "cell_type": "markdown",
   "metadata": {},
   "source": [
    "# Same process as above for store table is followed for milk type."
   ]
  },
  {
   "cell_type": "code",
   "execution_count": 14,
   "metadata": {},
   "outputs": [],
   "source": [
    "temp_type = pd.read_sql_query('select * from \"Milk_Type\"', con=engine)\n",
    "temp_type = temp_type.drop(columns = 'id')\n",
    "db_type = pd.concat([temp_type, milk_type_df]).drop_duplicates(keep=False)\n",
    "db_type = db_type.reset_index(drop=True)   \n",
    "#db_type"
   ]
  },
  {
   "cell_type": "code",
   "execution_count": 15,
   "metadata": {},
   "outputs": [],
   "source": [
    "db_type.to_sql(name='Milk_Type', con=engine, if_exists='append', index=False)"
   ]
  },
  {
   "cell_type": "markdown",
   "metadata": {},
   "source": [
    "### Confirm data has been added by querying the  table"
   ]
  },
  {
   "cell_type": "code",
   "execution_count": 16,
   "metadata": {},
   "outputs": [
    {
     "data": {
      "text/html": [
       "<div>\n",
       "<style scoped>\n",
       "    .dataframe tbody tr th:only-of-type {\n",
       "        vertical-align: middle;\n",
       "    }\n",
       "\n",
       "    .dataframe tbody tr th {\n",
       "        vertical-align: top;\n",
       "    }\n",
       "\n",
       "    .dataframe thead th {\n",
       "        text-align: right;\n",
       "    }\n",
       "</style>\n",
       "<table border=\"1\" class=\"dataframe\">\n",
       "  <thead>\n",
       "    <tr style=\"text-align: right;\">\n",
       "      <th></th>\n",
       "      <th>id</th>\n",
       "      <th>type</th>\n",
       "      <th>Full_Name</th>\n",
       "      <th>count</th>\n",
       "    </tr>\n",
       "  </thead>\n",
       "  <tbody>\n",
       "    <tr>\n",
       "      <th>0</th>\n",
       "      <td>1</td>\n",
       "      <td>almond</td>\n",
       "      <td>Almond-Milk</td>\n",
       "      <td>44</td>\n",
       "    </tr>\n",
       "    <tr>\n",
       "      <th>1</th>\n",
       "      <td>2</td>\n",
       "      <td>chocolate</td>\n",
       "      <td>Chocolate-Milk</td>\n",
       "      <td>43</td>\n",
       "    </tr>\n",
       "    <tr>\n",
       "      <th>2</th>\n",
       "      <td>3</td>\n",
       "      <td>fat</td>\n",
       "      <td>Reduced-Fat-Milk</td>\n",
       "      <td>51</td>\n",
       "    </tr>\n",
       "    <tr>\n",
       "      <th>3</th>\n",
       "      <td>4</td>\n",
       "      <td>lactose</td>\n",
       "      <td>Lactose-Free-Milk</td>\n",
       "      <td>19</td>\n",
       "    </tr>\n",
       "    <tr>\n",
       "      <th>4</th>\n",
       "      <td>5</td>\n",
       "      <td>oat</td>\n",
       "      <td>Oat-Milk</td>\n",
       "      <td>13</td>\n",
       "    </tr>\n",
       "    <tr>\n",
       "      <th>5</th>\n",
       "      <td>6</td>\n",
       "      <td>organic</td>\n",
       "      <td>Organic-Milk</td>\n",
       "      <td>10</td>\n",
       "    </tr>\n",
       "    <tr>\n",
       "      <th>6</th>\n",
       "      <td>7</td>\n",
       "      <td>other</td>\n",
       "      <td>Other</td>\n",
       "      <td>47</td>\n",
       "    </tr>\n",
       "    <tr>\n",
       "      <th>7</th>\n",
       "      <td>8</td>\n",
       "      <td>powder</td>\n",
       "      <td>Powder-Milk</td>\n",
       "      <td>3</td>\n",
       "    </tr>\n",
       "    <tr>\n",
       "      <th>8</th>\n",
       "      <td>9</td>\n",
       "      <td>protein</td>\n",
       "      <td>Protein-Product</td>\n",
       "      <td>9</td>\n",
       "    </tr>\n",
       "    <tr>\n",
       "      <th>9</th>\n",
       "      <td>10</td>\n",
       "      <td>whole</td>\n",
       "      <td>Whole</td>\n",
       "      <td>21</td>\n",
       "    </tr>\n",
       "  </tbody>\n",
       "</table>\n",
       "</div>"
      ],
      "text/plain": [
       "   id       type          Full_Name  count\n",
       "0   1     almond        Almond-Milk     44\n",
       "1   2  chocolate     Chocolate-Milk     43\n",
       "2   3        fat   Reduced-Fat-Milk     51\n",
       "3   4    lactose  Lactose-Free-Milk     19\n",
       "4   5        oat           Oat-Milk     13\n",
       "5   6    organic       Organic-Milk     10\n",
       "6   7      other              Other     47\n",
       "7   8     powder        Powder-Milk      3\n",
       "8   9    protein    Protein-Product      9\n",
       "9  10      whole              Whole     21"
      ]
     },
     "execution_count": 16,
     "metadata": {},
     "output_type": "execute_result"
    }
   ],
   "source": [
    "pd.read_sql_query('select * from \"Milk_Type\"', con=engine)"
   ]
  },
  {
   "cell_type": "markdown",
   "metadata": {},
   "source": [
    "# Retrieves and merges Store data with milk data to set the Store ID then next cell deletes data not required in Milk Table"
   ]
  },
  {
   "cell_type": "code",
   "execution_count": 17,
   "metadata": {},
   "outputs": [],
   "source": [
    "stores2_df = pd.read_sql_query('select * from \"Store\"', con=engine).head()\n",
    "complete_milk = complete_milk.merge(stores2_df, on = 'Store_Number')\n",
    "#complete_milk.head()"
   ]
  },
  {
   "cell_type": "code",
   "execution_count": 18,
   "metadata": {},
   "outputs": [],
   "source": [
    "complete_milk = complete_milk.drop(columns = ['Store_Name' , 'Store_Zipcode', 'Store_Number'])\n",
    "#complete_milk.head()"
   ]
  },
  {
   "cell_type": "code",
   "execution_count": 19,
   "metadata": {},
   "outputs": [],
   "source": [
    "complete_milk = complete_milk.rename(columns ={'id' : 'Store_ID'})\n",
    "#complete_milk.head()"
   ]
  },
  {
   "cell_type": "code",
   "execution_count": 20,
   "metadata": {},
   "outputs": [],
   "source": [
    "type2_df =pd.read_sql_query('select * from \"Milk_Type\"', con=engine)\n",
    "type2_df = type2_df.drop(columns = ['Full_Name' , 'count'])\n",
    "complete_milk = complete_milk.merge(type2_df, on = 'type')\n",
    "complete_milk = complete_milk.drop(columns = {'type' })\n",
    "complete_milk = complete_milk.rename(columns = {'id' : 'Type_ID'})\n",
    "#complete_milk\n"
   ]
  },
  {
   "cell_type": "markdown",
   "metadata": {},
   "source": [
    "# Same process as above is followed to insert Milk data from dataframe into Milk table of database"
   ]
  },
  {
   "cell_type": "code",
   "execution_count": 21,
   "metadata": {},
   "outputs": [],
   "source": [
    "temp_milk = pd.read_sql_query('select * from \"Milk\"', con=engine)\n",
    "temp_milk = temp_milk.drop(columns = 'id')\n",
    "#temp_milk"
   ]
  },
  {
   "cell_type": "code",
   "execution_count": 22,
   "metadata": {},
   "outputs": [],
   "source": [
    "db_milk = pd.concat([temp_milk, complete_milk]).drop_duplicates(keep=False)\n",
    "db_milk = db_milk.reset_index(drop=True)   \n",
    "#db_milk.head()"
   ]
  },
  {
   "cell_type": "code",
   "execution_count": 23,
   "metadata": {},
   "outputs": [],
   "source": [
    "db_milk.to_sql(name='Milk', con=engine, if_exists='append', index=False)"
   ]
  },
  {
   "cell_type": "code",
   "execution_count": 24,
   "metadata": {},
   "outputs": [
    {
     "data": {
      "text/html": [
       "<div>\n",
       "<style scoped>\n",
       "    .dataframe tbody tr th:only-of-type {\n",
       "        vertical-align: middle;\n",
       "    }\n",
       "\n",
       "    .dataframe tbody tr th {\n",
       "        vertical-align: top;\n",
       "    }\n",
       "\n",
       "    .dataframe thead th {\n",
       "        text-align: right;\n",
       "    }\n",
       "</style>\n",
       "<table border=\"1\" class=\"dataframe\">\n",
       "  <thead>\n",
       "    <tr style=\"text-align: right;\">\n",
       "      <th></th>\n",
       "      <th>id</th>\n",
       "      <th>product_id</th>\n",
       "      <th>Brand</th>\n",
       "      <th>features</th>\n",
       "      <th>size</th>\n",
       "      <th>category</th>\n",
       "      <th>image</th>\n",
       "      <th>Store_ID</th>\n",
       "      <th>Type_ID</th>\n",
       "      <th>name</th>\n",
       "    </tr>\n",
       "  </thead>\n",
       "  <tbody>\n",
       "    <tr>\n",
       "      <th>0</th>\n",
       "      <td>1</td>\n",
       "      <td>1111040101</td>\n",
       "      <td>Kroger</td>\n",
       "      <td>none</td>\n",
       "      <td>1 gal</td>\n",
       "      <td>['Dairy']</td>\n",
       "      <td>https://www.kroger.com/product/images/xlarge/f...</td>\n",
       "      <td>1</td>\n",
       "      <td>10</td>\n",
       "      <td>Kroger® Vitamin D Whole Milk</td>\n",
       "    </tr>\n",
       "    <tr>\n",
       "      <th>1</th>\n",
       "      <td>2</td>\n",
       "      <td>1111040601</td>\n",
       "      <td>Kroger</td>\n",
       "      <td>none</td>\n",
       "      <td>1/2 gal</td>\n",
       "      <td>['Dairy']</td>\n",
       "      <td>https://www.kroger.com/product/images/xlarge/f...</td>\n",
       "      <td>1</td>\n",
       "      <td>10</td>\n",
       "      <td>Kroger® Vitamin D Whole Milk</td>\n",
       "    </tr>\n",
       "    <tr>\n",
       "      <th>2</th>\n",
       "      <td>3</td>\n",
       "      <td>1111042850</td>\n",
       "      <td>Simple Truth Organic</td>\n",
       "      <td>none</td>\n",
       "      <td>0.5 gal</td>\n",
       "      <td>['Dairy', 'Natural &amp; Organic']</td>\n",
       "      <td>https://www.kroger.com/product/images/xlarge/f...</td>\n",
       "      <td>1</td>\n",
       "      <td>10</td>\n",
       "      <td>Simple Truth Organic® Whole Milk</td>\n",
       "    </tr>\n",
       "    <tr>\n",
       "      <th>3</th>\n",
       "      <td>4</td>\n",
       "      <td>1111042908</td>\n",
       "      <td>Simple Truth Organic</td>\n",
       "      <td>none</td>\n",
       "      <td>1 gal</td>\n",
       "      <td>['Dairy', 'Natural &amp; Organic']</td>\n",
       "      <td>https://www.kroger.com/product/images/xlarge/f...</td>\n",
       "      <td>1</td>\n",
       "      <td>10</td>\n",
       "      <td>Simple Truth Organic™ Whole Milk</td>\n",
       "    </tr>\n",
       "    <tr>\n",
       "      <th>4</th>\n",
       "      <td>5</td>\n",
       "      <td>81326702000</td>\n",
       "      <td>A2 Milk</td>\n",
       "      <td>none</td>\n",
       "      <td>59 fl oz</td>\n",
       "      <td>['Dairy']</td>\n",
       "      <td>https://www.kroger.com/product/images/xlarge/f...</td>\n",
       "      <td>1</td>\n",
       "      <td>10</td>\n",
       "      <td>A2 Ultra-Pasteurized Whole Milk</td>\n",
       "    </tr>\n",
       "    <tr>\n",
       "      <th>...</th>\n",
       "      <td>...</td>\n",
       "      <td>...</td>\n",
       "      <td>...</td>\n",
       "      <td>...</td>\n",
       "      <td>...</td>\n",
       "      <td>...</td>\n",
       "      <td>...</td>\n",
       "      <td>...</td>\n",
       "      <td>...</td>\n",
       "      <td>...</td>\n",
       "    </tr>\n",
       "    <tr>\n",
       "      <th>598</th>\n",
       "      <td>599</td>\n",
       "      <td>3981542</td>\n",
       "      <td>Iconic</td>\n",
       "      <td>None</td>\n",
       "      <td>None</td>\n",
       "      <td>Dairy &amp; Eggs/Milk</td>\n",
       "      <td>https://images.heb.com/is/image/HEBGrocery/prd...</td>\n",
       "      <td>2</td>\n",
       "      <td>9</td>\n",
       "      <td>Kids Vanilla Vacay Protein Drink</td>\n",
       "    </tr>\n",
       "    <tr>\n",
       "      <th>599</th>\n",
       "      <td>600</td>\n",
       "      <td>3981541</td>\n",
       "      <td>Iconic</td>\n",
       "      <td>None</td>\n",
       "      <td>None</td>\n",
       "      <td>Dairy &amp; Eggs/Milk</td>\n",
       "      <td>https://images.heb.com/is/image/HEBGrocery/prd...</td>\n",
       "      <td>2</td>\n",
       "      <td>9</td>\n",
       "      <td>Kids Fruity Fiesta Protein Drink</td>\n",
       "    </tr>\n",
       "    <tr>\n",
       "      <th>600</th>\n",
       "      <td>601</td>\n",
       "      <td>1290139</td>\n",
       "      <td>Nestle</td>\n",
       "      <td>None</td>\n",
       "      <td>56.3 oz</td>\n",
       "      <td>Dairy &amp; Eggs/Milk</td>\n",
       "      <td>https://images.heb.com/is/image/HEBGrocery/prd...</td>\n",
       "      <td>2</td>\n",
       "      <td>8</td>\n",
       "      <td>NIDO Kinder 1+ Powdered Milk Beverage</td>\n",
       "    </tr>\n",
       "    <tr>\n",
       "      <th>601</th>\n",
       "      <td>602</td>\n",
       "      <td>1148619</td>\n",
       "      <td>Nestle</td>\n",
       "      <td>['  LOW SODIUM']</td>\n",
       "      <td>12.6 oz</td>\n",
       "      <td>Dairy &amp; Eggs/Milk</td>\n",
       "      <td>https://images.heb.com/is/image/HEBGrocery/prd...</td>\n",
       "      <td>2</td>\n",
       "      <td>8</td>\n",
       "      <td>NIDO Kinder 1+ Powdered Milk Beverage</td>\n",
       "    </tr>\n",
       "    <tr>\n",
       "      <th>602</th>\n",
       "      <td>603</td>\n",
       "      <td>1925564</td>\n",
       "      <td>Nestle</td>\n",
       "      <td>None</td>\n",
       "      <td>28.2 oz</td>\n",
       "      <td>Dairy &amp; Eggs/Milk</td>\n",
       "      <td>https://images.heb.com/is/image/HEBGrocery/prd...</td>\n",
       "      <td>2</td>\n",
       "      <td>8</td>\n",
       "      <td>NIDO Pre-School 3+ Powdered Milk Beverage</td>\n",
       "    </tr>\n",
       "  </tbody>\n",
       "</table>\n",
       "<p>603 rows × 10 columns</p>\n",
       "</div>"
      ],
      "text/plain": [
       "      id   product_id                 Brand          features      size  \\\n",
       "0      1   1111040101                Kroger              none     1 gal   \n",
       "1      2   1111040601                Kroger              none   1/2 gal   \n",
       "2      3   1111042850  Simple Truth Organic              none   0.5 gal   \n",
       "3      4   1111042908  Simple Truth Organic              none     1 gal   \n",
       "4      5  81326702000               A2 Milk              none  59 fl oz   \n",
       "..   ...          ...                   ...               ...       ...   \n",
       "598  599      3981542                Iconic              None      None   \n",
       "599  600      3981541                Iconic              None      None   \n",
       "600  601      1290139                Nestle              None   56.3 oz   \n",
       "601  602      1148619                Nestle  ['  LOW SODIUM']   12.6 oz   \n",
       "602  603      1925564                Nestle              None   28.2 oz   \n",
       "\n",
       "                           category  \\\n",
       "0                         ['Dairy']   \n",
       "1                         ['Dairy']   \n",
       "2    ['Dairy', 'Natural & Organic']   \n",
       "3    ['Dairy', 'Natural & Organic']   \n",
       "4                         ['Dairy']   \n",
       "..                              ...   \n",
       "598               Dairy & Eggs/Milk   \n",
       "599               Dairy & Eggs/Milk   \n",
       "600               Dairy & Eggs/Milk   \n",
       "601               Dairy & Eggs/Milk   \n",
       "602               Dairy & Eggs/Milk   \n",
       "\n",
       "                                                 image  Store_ID  Type_ID  \\\n",
       "0    https://www.kroger.com/product/images/xlarge/f...         1       10   \n",
       "1    https://www.kroger.com/product/images/xlarge/f...         1       10   \n",
       "2    https://www.kroger.com/product/images/xlarge/f...         1       10   \n",
       "3    https://www.kroger.com/product/images/xlarge/f...         1       10   \n",
       "4    https://www.kroger.com/product/images/xlarge/f...         1       10   \n",
       "..                                                 ...       ...      ...   \n",
       "598  https://images.heb.com/is/image/HEBGrocery/prd...         2        9   \n",
       "599  https://images.heb.com/is/image/HEBGrocery/prd...         2        9   \n",
       "600  https://images.heb.com/is/image/HEBGrocery/prd...         2        8   \n",
       "601  https://images.heb.com/is/image/HEBGrocery/prd...         2        8   \n",
       "602  https://images.heb.com/is/image/HEBGrocery/prd...         2        8   \n",
       "\n",
       "                                           name  \n",
       "0                  Kroger® Vitamin D Whole Milk  \n",
       "1                  Kroger® Vitamin D Whole Milk  \n",
       "2              Simple Truth Organic® Whole Milk  \n",
       "3              Simple Truth Organic™ Whole Milk  \n",
       "4               A2 Ultra-Pasteurized Whole Milk  \n",
       "..                                          ...  \n",
       "598            Kids Vanilla Vacay Protein Drink  \n",
       "599            Kids Fruity Fiesta Protein Drink  \n",
       "600       NIDO Kinder 1+ Powdered Milk Beverage  \n",
       "601       NIDO Kinder 1+ Powdered Milk Beverage  \n",
       "602   NIDO Pre-School 3+ Powdered Milk Beverage  \n",
       "\n",
       "[603 rows x 10 columns]"
      ]
     },
     "execution_count": 24,
     "metadata": {},
     "output_type": "execute_result"
    }
   ],
   "source": [
    "pd.read_sql_query('select * from \"Milk\"', con=engine)"
   ]
  },
  {
   "cell_type": "markdown",
   "metadata": {},
   "source": [
    "# Milk data is pulled from database Milk table and merged with price history. Uneeded price history columns are dropped and renamed to coordinate with Price History Table. This sets the product ID in price history."
   ]
  },
  {
   "cell_type": "code",
   "execution_count": null,
   "metadata": {},
   "outputs": [],
   "source": []
  },
  {
   "cell_type": "code",
   "execution_count": 25,
   "metadata": {},
   "outputs": [],
   "source": [
    "price_history_df = kroger_data_df[['Date', 'price.regular', 'price.promo', 'productId']].copy()\n",
    "heb_price = heb_data_df[['price' , 'coupon', 'id', 'Date']]\n",
    "heb_price =heb_price.rename(columns={'Date':'date', 'coupon':'saleprice', 'id':'product_id'})\n",
    "price_history_df =price_history_df.rename(columns={'Date':'date', 'price.regular':'price', 'price.promo':'saleprice', 'productId': 'product_id'})\n",
    "price_history_df = pd.concat([price_history_df, heb_price])\n",
    "price_history_df['date'] = pd.to_datetime(price_history_df['date'])\n",
    "#price_history_df"
   ]
  },
  {
   "cell_type": "code",
   "execution_count": 26,
   "metadata": {},
   "outputs": [],
   "source": [
    "milk2_df = pd.read_sql_query('select * from \"Milk\"', con=engine)\n",
    "milk2_df = milk2_df.drop(columns = ['Brand' , 'size', 'image', 'Store_ID', 'Type_ID', 'category', 'features', 'name'])\n",
    "merged_price = price_history_df.merge(milk2_df, on = 'product_id')\n",
    "#merged_price"
   ]
  },
  {
   "cell_type": "code",
   "execution_count": 27,
   "metadata": {},
   "outputs": [],
   "source": [
    "merged_price = merged_price.drop(columns = ['product_id'])\n",
    "merged_price = merged_price.rename(columns = {'id' : 'product_id'})\n",
    "#merged_price"
   ]
  },
  {
   "cell_type": "markdown",
   "metadata": {},
   "source": [
    "# Price History Dataframe is then added to Price History Table. Duplicates are not checked for in this instance because duplicates will trigger an error and stop the update process. "
   ]
  },
  {
   "cell_type": "code",
   "execution_count": 28,
   "metadata": {},
   "outputs": [],
   "source": [
    "temp_history = pd.read_sql_query('select * from \"Price_History\"', con=engine)\n",
    "db_history = pd.concat([temp_history, merged_price]).drop_duplicates(keep=False)\n",
    "db_history = db_history.reset_index(drop=True)   \n",
    "#db_history"
   ]
  },
  {
   "cell_type": "code",
   "execution_count": 29,
   "metadata": {},
   "outputs": [],
   "source": [
    "db_history.to_sql(name='Price_History', con=engine, if_exists='append', index=False)"
   ]
  },
  {
   "cell_type": "code",
   "execution_count": 30,
   "metadata": {},
   "outputs": [
    {
     "data": {
      "text/html": [
       "<div>\n",
       "<style scoped>\n",
       "    .dataframe tbody tr th:only-of-type {\n",
       "        vertical-align: middle;\n",
       "    }\n",
       "\n",
       "    .dataframe tbody tr th {\n",
       "        vertical-align: top;\n",
       "    }\n",
       "\n",
       "    .dataframe thead th {\n",
       "        text-align: right;\n",
       "    }\n",
       "</style>\n",
       "<table border=\"1\" class=\"dataframe\">\n",
       "  <thead>\n",
       "    <tr style=\"text-align: right;\">\n",
       "      <th></th>\n",
       "      <th>product_id</th>\n",
       "      <th>date</th>\n",
       "      <th>saleprice</th>\n",
       "      <th>price</th>\n",
       "    </tr>\n",
       "  </thead>\n",
       "  <tbody>\n",
       "    <tr>\n",
       "      <th>0</th>\n",
       "      <td>1</td>\n",
       "      <td>2021-02-08</td>\n",
       "      <td>0.0</td>\n",
       "      <td>2.99</td>\n",
       "    </tr>\n",
       "    <tr>\n",
       "      <th>1</th>\n",
       "      <td>78</td>\n",
       "      <td>2021-02-08</td>\n",
       "      <td>0.0</td>\n",
       "      <td>1.99</td>\n",
       "    </tr>\n",
       "    <tr>\n",
       "      <th>2</th>\n",
       "      <td>79</td>\n",
       "      <td>2021-02-08</td>\n",
       "      <td>0.0</td>\n",
       "      <td>2.99</td>\n",
       "    </tr>\n",
       "    <tr>\n",
       "      <th>3</th>\n",
       "      <td>2</td>\n",
       "      <td>2021-02-08</td>\n",
       "      <td>0.0</td>\n",
       "      <td>1.99</td>\n",
       "    </tr>\n",
       "    <tr>\n",
       "      <th>4</th>\n",
       "      <td>80</td>\n",
       "      <td>2021-02-08</td>\n",
       "      <td>0.0</td>\n",
       "      <td>2.99</td>\n",
       "    </tr>\n",
       "    <tr>\n",
       "      <th>...</th>\n",
       "      <td>...</td>\n",
       "      <td>...</td>\n",
       "      <td>...</td>\n",
       "      <td>...</td>\n",
       "    </tr>\n",
       "    <tr>\n",
       "      <th>598</th>\n",
       "      <td>190</td>\n",
       "      <td>2021-02-10</td>\n",
       "      <td>0.0</td>\n",
       "      <td>3.07</td>\n",
       "    </tr>\n",
       "    <tr>\n",
       "      <th>599</th>\n",
       "      <td>77</td>\n",
       "      <td>2021-02-10</td>\n",
       "      <td>0.0</td>\n",
       "      <td>3.07</td>\n",
       "    </tr>\n",
       "    <tr>\n",
       "      <th>600</th>\n",
       "      <td>191</td>\n",
       "      <td>2021-02-10</td>\n",
       "      <td>0.0</td>\n",
       "      <td>3.07</td>\n",
       "    </tr>\n",
       "    <tr>\n",
       "      <th>601</th>\n",
       "      <td>296</td>\n",
       "      <td>2021-02-10</td>\n",
       "      <td>0.0</td>\n",
       "      <td>3.28</td>\n",
       "    </tr>\n",
       "    <tr>\n",
       "      <th>602</th>\n",
       "      <td>297</td>\n",
       "      <td>2021-02-10</td>\n",
       "      <td>0.0</td>\n",
       "      <td>2.14</td>\n",
       "    </tr>\n",
       "  </tbody>\n",
       "</table>\n",
       "<p>603 rows × 4 columns</p>\n",
       "</div>"
      ],
      "text/plain": [
       "     product_id       date  saleprice  price\n",
       "0             1 2021-02-08        0.0   2.99\n",
       "1            78 2021-02-08        0.0   1.99\n",
       "2            79 2021-02-08        0.0   2.99\n",
       "3             2 2021-02-08        0.0   1.99\n",
       "4            80 2021-02-08        0.0   2.99\n",
       "..          ...        ...        ...    ...\n",
       "598         190 2021-02-10        0.0   3.07\n",
       "599          77 2021-02-10        0.0   3.07\n",
       "600         191 2021-02-10        0.0   3.07\n",
       "601         296 2021-02-10        0.0   3.28\n",
       "602         297 2021-02-10        0.0   2.14\n",
       "\n",
       "[603 rows x 4 columns]"
      ]
     },
     "execution_count": 30,
     "metadata": {},
     "output_type": "execute_result"
    }
   ],
   "source": [
    "pd.read_sql_query('select * from \"Price_History\"', con=engine)"
   ]
  },
  {
   "cell_type": "code",
   "execution_count": null,
   "metadata": {},
   "outputs": [],
   "source": []
  },
  {
   "cell_type": "code",
   "execution_count": null,
   "metadata": {},
   "outputs": [],
   "source": []
  }
 ],
 "metadata": {
  "kernelspec": {
   "display_name": "Python 3",
   "language": "python",
   "name": "python3"
  },
  "language_info": {
   "codemirror_mode": {
    "name": "ipython",
    "version": 3
   },
   "file_extension": ".py",
   "mimetype": "text/x-python",
   "name": "python",
   "nbconvert_exporter": "python",
   "pygments_lexer": "ipython3",
   "version": "3.9.1"
  },
  "nteract": {
   "version": "0.12.3"
  }
 },
 "nbformat": 4,
 "nbformat_minor": 2
}
