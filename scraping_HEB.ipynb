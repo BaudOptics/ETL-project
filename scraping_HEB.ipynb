{
 "cells": [
  {
   "cell_type": "code",
   "execution_count": 1,
   "metadata": {},
   "outputs": [],
   "source": [
    "from bs4 import BeautifulSoup as bs\n",
    "from splinter import Browser\n",
    "from webdriver_manager.chrome import ChromeDriverManager\n",
    "import re\n",
    "import ast"
   ]
  },
  {
   "cell_type": "code",
   "execution_count": 2,
   "metadata": {},
   "outputs": [
    {
     "name": "stderr",
     "output_type": "stream",
     "text": [
      "[WDM] - ====== WebDriver manager ======\n",
      "[WDM] - Current google-chrome version is 88.0.4324\n",
      "[WDM] - Get LATEST driver version for 88.0.4324\n"
     ]
    },
    {
     "name": "stdout",
     "output_type": "stream",
     "text": [
      "\n",
      "\n"
     ]
    },
    {
     "name": "stderr",
     "output_type": "stream",
     "text": [
      "[WDM] - Driver [/Users/Baud/.wdm/drivers/chromedriver/mac64/88.0.4324.96/chromedriver] found in cache\n"
     ]
    }
   ],
   "source": [
    "#setting up splinter\n",
    "executable_path = {'executable_path': ChromeDriverManager().install()}\n",
    "browser = Browser('chrome', **executable_path, headless=False)"
   ]
  },
  {
   "cell_type": "code",
   "execution_count": 3,
   "metadata": {},
   "outputs": [],
   "source": [
    "milk = \"https://www.heb.com/search/results?N=3139289889&No=0&Nrpp=60&Ntt=milk&q=milk&prodFilter=none\"\n",
    "browser.visit(milk)"
   ]
  },
  {
   "cell_type": "code",
   "execution_count": 4,
   "metadata": {},
   "outputs": [],
   "source": [
    "html = browser.html\n",
    "soup = bs(html,\"lxml\")\n",
    "\n",
    "page = soup.body.find_all('a',id=re.compile('product-'))\n",
    "milks = page\n",
    "browser.links.find_by_partial_text('Next').click()\n",
    "for x in range(1,15):\n",
    "    page = soup.body.find_all('a',id=re.compile('product-'))\n",
    "    milks.extend(page)\n",
    "    try:\n",
    "        browser.links.find_by_partial_text('Next').click()\n",
    "    except:\n",
    "        break"
   ]
  },
  {
   "cell_type": "code",
   "execution_count": 5,
   "metadata": {},
   "outputs": [
    {
     "data": {
      "text/plain": [
       "'{\"name\": \"Central Market Organics Whole Milk\", \"id\": \"931316\", \"category\": \"Dairy & Eggs/Milk\",\"brand\": \"Central Market\", \"variant\": \"each\", \"price\": 5.85,\"list\": \"Search Results page\",\"position\": \"1\",\"dimension26\": \"true\",\"dimension40\": \"default\"}'"
      ]
     },
     "execution_count": 5,
     "metadata": {},
     "output_type": "execute_result"
    }
   ],
   "source": [
    "#len(milks)\n",
    "tag_string = \"\"\n",
    "for item in milks[0].contents[1]:\n",
    "    tag_string += str(item)\n",
    "    \n",
    "#tag_string\n",
    "item_info = tag_string.split(\"{\")\n",
    "the_right_stuff = item_info[1]\n",
    "while \"\\t\" in the_right_stuff:\n",
    "    index = the_right_stuff.find('\\t')\n",
    "    the_right_stuff = the_right_stuff[:index] + the_right_stuff[index+1:]\n",
    "while \"\\n\" in the_right_stuff:\n",
    "    index = the_right_stuff.find('\\n')\n",
    "    the_right_stuff = the_right_stuff[:index] + the_right_stuff[index+1:]\n",
    "while \"</script>\" in the_right_stuff:\n",
    "    index = the_right_stuff.find('</script>')\n",
    "    the_right_stuff = the_right_stuff[:index] + the_right_stuff[index+9:]\n",
    "while \"</div>\" in the_right_stuff:\n",
    "    index = the_right_stuff.find('</div>')\n",
    "    the_right_stuff = the_right_stuff[:index] + the_right_stuff[index+6:]\n",
    "the_right_stuff = '{' + the_right_stuff\n",
    "the_right_stuff"
   ]
  },
  {
   "cell_type": "code",
   "execution_count": 6,
   "metadata": {},
   "outputs": [
    {
     "data": {
      "text/plain": [
       "{'name': 'Central Market Organics Whole Milk',\n",
       " 'id': '931316',\n",
       " 'category': 'Dairy & Eggs/Milk',\n",
       " 'brand': 'Central Market',\n",
       " 'variant': 'each',\n",
       " 'price': 5.85,\n",
       " 'list': 'Search Results page',\n",
       " 'position': '1',\n",
       " 'dimension26': 'true',\n",
       " 'dimension40': 'default'}"
      ]
     },
     "execution_count": 6,
     "metadata": {},
     "output_type": "execute_result"
    }
   ],
   "source": [
    "dictionary = ast.literal_eval(the_right_stuff)\n",
    "dictionary"
   ]
  },
  {
   "cell_type": "code",
   "execution_count": 7,
   "metadata": {},
   "outputs": [
    {
     "ename": "TypeError",
     "evalue": "list indices must be integers or slices, not Tag",
     "output_type": "error",
     "traceback": [
      "\u001b[0;31m---------------------------------------------------------------------------\u001b[0m",
      "\u001b[0;31mTypeError\u001b[0m                                 Traceback (most recent call last)",
      "\u001b[0;32m<ipython-input-7-13ca073a8bcd>\u001b[0m in \u001b[0;36m<module>\u001b[0;34m\u001b[0m\n\u001b[1;32m      1\u001b[0m \u001b[0mharasho\u001b[0m \u001b[0;34m=\u001b[0m \u001b[0;34m[\u001b[0m\u001b[0;34m]\u001b[0m\u001b[0;34m\u001b[0m\u001b[0;34m\u001b[0m\u001b[0m\n\u001b[1;32m      2\u001b[0m \u001b[0;32mfor\u001b[0m \u001b[0mnostrovia\u001b[0m \u001b[0;32min\u001b[0m \u001b[0mmilks\u001b[0m\u001b[0;34m:\u001b[0m\u001b[0;34m\u001b[0m\u001b[0;34m\u001b[0m\u001b[0m\n\u001b[0;32m----> 3\u001b[0;31m     \u001b[0mharasho\u001b[0m\u001b[0;34m.\u001b[0m\u001b[0mappend\u001b[0m\u001b[0;34m(\u001b[0m\u001b[0mmilks\u001b[0m\u001b[0;34m[\u001b[0m\u001b[0mnostrovia\u001b[0m\u001b[0;34m]\u001b[0m\u001b[0;34m.\u001b[0m\u001b[0mcontent\u001b[0m\u001b[0;34m[\u001b[0m\u001b[0;36m1\u001b[0m\u001b[0;34m]\u001b[0m\u001b[0;34m)\u001b[0m\u001b[0;34m\u001b[0m\u001b[0;34m\u001b[0m\u001b[0m\n\u001b[0m",
      "\u001b[0;31mTypeError\u001b[0m: list indices must be integers or slices, not Tag"
     ]
    }
   ],
   "source": [
    "# harasho = []\n",
    "# for nostrovia in milks:\n",
    "#     harasho.append(milks[nostrovia].content[1])\n",
    "#it's a shitload more code than that but basically you have to\n",
    "#use the above frame in a nested loop to add to the list of dictionaries\n",
    "\n",
    "#just sort it out tomorrow after sleep"
   ]
  },
  {
   "cell_type": "code",
   "execution_count": null,
   "metadata": {},
   "outputs": [],
   "source": []
  }
 ],
 "metadata": {
  "kernelspec": {
   "display_name": "Python 3",
   "language": "python",
   "name": "python3"
  },
  "language_info": {
   "codemirror_mode": {
    "name": "ipython",
    "version": 3
   },
   "file_extension": ".py",
   "mimetype": "text/x-python",
   "name": "python",
   "nbconvert_exporter": "python",
   "pygments_lexer": "ipython3",
   "version": "3.8.5"
  }
 },
 "nbformat": 4,
 "nbformat_minor": 4
}
