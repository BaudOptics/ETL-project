{
 "cells": [
  {
   "cell_type": "code",
   "execution_count": 1,
   "metadata": {},
   "outputs": [],
   "source": [
    "from bs4 import BeautifulSoup as bs\n",
    "from splinter import Browser\n",
    "from webdriver_manager.chrome import ChromeDriverManager\n",

    "import time\n",
    "import re\n",
    "import pandas as pd\n",
    "from HEB_scraping_filter import *\n"

    "import re\n",
    "import ast"

   ]
  },
  {
   "cell_type": "code",

   "execution_count": 28,

   "execution_count": 2,

   "metadata": {},
   "outputs": [
    {
     "name": "stderr",
     "output_type": "stream",
     "text": [
      "[WDM] - ====== WebDriver manager ======\n",
      "[WDM] - Current google-chrome version is 88.0.4324\n",
      "[WDM] - Get LATEST driver version for 88.0.4324\n",
      "[WDM] - Driver [C:\\Users\\ykras\\.wdm\\drivers\\chromedriver\\win32\\88.0.4324.96\\chromedriver.exe] found in cache\n"
     ]
    },
    {
     "name": "stdout",
     "output_type": "stream",
     "text": [
      "\n",
      "\n"
     ]
    }
   ],
   "source": [
    "#setting up splinter\n",
    "executable_path = {'executable_path': ChromeDriverManager().install()}\n",
    "browser = Browser('chrome', **executable_path, headless=False)"
   ]
  },
  {
   "cell_type": "code",

   "execution_count": 29,

   "execution_count": 3,

   "metadata": {},
   "outputs": [],
   "source": [
    "milk = \"https://www.heb.com/search/results?N=3139289889&No=0&Nrpp=60&Ntt=milk&q=milk&prodFilter=none\"\n",
    "browser.visit(milk)\n",
    "time.sleep(10)"
   ]
  },
  {
   "cell_type": "code",

   "execution_count": 6,

   "execution_count": 4,

   "metadata": {},
   "outputs": [],
   "source": [
    "html = browser.html\n",
    "soup = bs(html,\"lxml\")\n",
    "\n",
    "page = soup.body.find_all('a',id=re.compile('product-'))\n",
    "milks = page\n",
    "browser.links.find_by_partial_text('Next').click()\n",
    "time.sleep(10)\n",
    "for x in range(1,15):\n",
    "    page = soup.body.find_all('a',id=re.compile('product-'))\n",
    "    milks.extend(page)\n",
    "    try:\n",
    "        browser.links.find_by_partial_text('Next').click()\n",
    "        time.sleep(10)\n",
    "    except:\n",
    "        break"
   ]
  },
  {
   "cell_type": "code",

   "execution_count": 23,

   "execution_count": 5,

   "metadata": {},
   "outputs": [
    {
     "data": {
      "text/plain": [

       "<a aria-label=\"H-E-B MooTopia Lactose Free Vanilla 2% Reduced Fat Milk,\n",
       "\t\t1/2 gal,\n",
       "\t\t$4.10 each. Features:  GO LOCAL. Primo Pick.\" class=\"responsivegriditem__aria-link-wrap\" href=\"/product-detail/h-e-b-mootopia-lactose-free-vanilla-2-reduced-fat-milk/1640462\" id=\"product-1640462\">\n",
       "<div class=\"responsivegriditem-top\" onclick=\"gtm_e_productClick('gtm-product-click-1640462');\">\n",
       "<div class=\"cat-feature clearfix\">\n",
       "<img alt=\"Primo Pick\" class=\"lazyload product-card__flag product-card__flag--product-card__flag--marketing-bug\" data-src=\"https://images.heb.com/is/image/HEBGrocery/mkt-small/marketingbug-primopck.jpg\"/>\n",
       "<div class=\"cat-feature-list clearfix\">\n",
       "<img src=\"https://images.heb.com/is/image/HEBGrocery/snp-small/snipe-sgolocal.jpg\" title=\"GO LOCAL\"/>\n",
       "</div></div>\n",
       "<div class=\"cat-list-img gtm-product\">\n",
       "<img alt=\"\" class=\"lazyload\" data-src=\"https://images.heb.com/is/image/HEBGrocery/prd-small/h-e-b-mootopia-lactose-free-vanilla-2-reduced-fat-milk-001640462.jpg\"/><script type=\"application/ld+json\">\n",
       "{\t\n",
       "\t\"name\": \"H-E-B MooTopia Lactose Free Vanilla 2% Reduced Fat Milk\", \n",
       "\t\"id\": \"1640462\", \n",
       "\t\"category\": \"Dairy & Eggs/Milk\",\n",
       "\t\"brand\": \"H-E-B\", \n",
       "\t\"variant\": \"each\", \n",
       "\t\"price\": 4.1,\n",
       "\t\"list\": \"Search Results page\",\n",
       "\t\"position\": \"21\",\n",
       "\t\"dimension26\": \"true\",\n",
       "\t\"dimension40\": \"default\"\n",
       "}\n",
       "</script>\n",
       "</div>\n",
       "</div>\n",
       "<div class=\"responsivegriditem-middle\">\n",
       "<div class=\"responsivegriditem__title\" onclick=\"gtm_e_productClick('gtm-product-click-1640462');\">\n",
       "<span class=\"responsivegriditem__title\">\n",
       "\t\t\t\t\tH‑E‑B MooTopia Lactose Free Vanilla 2% Reduced Fat Milk, <span class=\"item-size\">1/2 gal</span></span></div>\n",
       "<div class=\"cat-price\">\n",
       "<div class=\"responsivegriditem__price-label\"></div>\n",
       "<span class=\"cat-price-number\">\n",
       "                        $4.10 each</span>\n",
       "<span class=\"cat-sale-price-container\">\n",
       "<span class=\"uomSalePrice\">\n",
       "                        ($0.07/oz)\n",
       "                    </span>\n",
       "</span>\n",
       "</div><div class=\"cdp-moq\">\n",
       "</div>\n",
       "</div>\n",
       "</a>"
      ]
     },
     "execution_count": 23,

       "'{\"name\": \"Central Market Organics Whole Milk\", \"id\": \"931316\", \"category\": \"Dairy & Eggs/Milk\",\"brand\": \"Central Market\", \"variant\": \"each\", \"price\": 5.85,\"list\": \"Search Results page\",\"position\": \"1\",\"dimension26\": \"true\",\"dimension40\": \"default\"}'"
      ]
     },
     "execution_count": 5,

     "metadata": {},
     "output_type": "execute_result"
    }
   ],
   "source": [

    "milks[20]\n",
    "# tag_string = \"\"\n",
    "# for item in milks[0].contents[1]:\n",
    "#     tag_string += str(item)\n",

    "#len(milks)\n",
    "tag_string = \"\"\n",
    "for item in milks[0].contents[1]:\n",
    "    tag_string += str(item)\n",

    "    \n",
    "#tag_string\n",
    "item_info = tag_string.split(\"{\")\n",
    "the_right_stuff = item_info[1]\n",
    "while \"\\t\" in the_right_stuff:\n",
    "    index = the_right_stuff.find('\\t')\n",
    "    the_right_stuff = the_right_stuff[:index] + the_right_stuff[index+1:]\n",
    "while \"\\n\" in the_right_stuff:\n",
    "    index = the_right_stuff.find('\\n')\n",
    "    the_right_stuff = the_right_stuff[:index] + the_right_stuff[index+1:]\n",
    "while \"</script>\" in the_right_stuff:\n",
    "    index = the_right_stuff.find('</script>')\n",
    "    the_right_stuff = the_right_stuff[:index] + the_right_stuff[index+9:]\n",
    "while \"</div>\" in the_right_stuff:\n",
    "    index = the_right_stuff.find('</div>')\n",
    "    the_right_stuff = the_right_stuff[:index] + the_right_stuff[index+6:]\n",
    "the_right_stuff = '{' + the_right_stuff\n",
    "the_right_stuff"
   ]
  },
  {
   "cell_type": "code",
   "execution_count": 8,
   "metadata": {},
   "outputs": [
    {
     "data": {
      "text/plain": [
       "{'name': 'Central Market Organics Whole Milk',\n",
       " 'id': '931316',\n",
       " 'category': 'Dairy & Eggs/Milk',\n",
       " 'brand': 'Central Market',\n",
       " 'variant': 'each',\n",
       " 'price': 5.85,\n",
       " 'list': 'Search Results page',\n",
       " 'position': '1',\n",
       " 'dimension26': 'true',\n",
       " 'dimension40': 'default'}"
      ]
     },
     "execution_count": 6,
     "metadata": {},
     "output_type": "execute_result"
    }
   ],
   "source": [
    "dictionary = ast.literal_eval(the_right_stuff)\n",
    "dictionary"
   ]
  },
  {
   "cell_type": "code",
   "execution_count": 7,
   "metadata": {},
   "outputs": [
    {
     "ename": "TypeError",
     "evalue": "list indices must be integers or slices, not Tag",
     "output_type": "error",
     "traceback": [
      "\u001b[0;31m---------------------------------------------------------------------------\u001b[0m",
      "\u001b[0;31mTypeError\u001b[0m                                 Traceback (most recent call last)",
      "\u001b[0;32m<ipython-input-7-13ca073a8bcd>\u001b[0m in \u001b[0;36m<module>\u001b[0;34m\u001b[0m\n\u001b[1;32m      1\u001b[0m \u001b[0mharasho\u001b[0m \u001b[0;34m=\u001b[0m \u001b[0;34m[\u001b[0m\u001b[0;34m]\u001b[0m\u001b[0;34m\u001b[0m\u001b[0;34m\u001b[0m\u001b[0m\n\u001b[1;32m      2\u001b[0m \u001b[0;32mfor\u001b[0m \u001b[0mnostrovia\u001b[0m \u001b[0;32min\u001b[0m \u001b[0mmilks\u001b[0m\u001b[0;34m:\u001b[0m\u001b[0;34m\u001b[0m\u001b[0;34m\u001b[0m\u001b[0m\n\u001b[0;32m----> 3\u001b[0;31m     \u001b[0mharasho\u001b[0m\u001b[0;34m.\u001b[0m\u001b[0mappend\u001b[0m\u001b[0;34m(\u001b[0m\u001b[0mmilks\u001b[0m\u001b[0;34m[\u001b[0m\u001b[0mnostrovia\u001b[0m\u001b[0;34m]\u001b[0m\u001b[0;34m.\u001b[0m\u001b[0mcontent\u001b[0m\u001b[0;34m[\u001b[0m\u001b[0;36m1\u001b[0m\u001b[0;34m]\u001b[0m\u001b[0;34m)\u001b[0m\u001b[0;34m\u001b[0m\u001b[0;34m\u001b[0m\u001b[0m\n\u001b[0m",
      "\u001b[0;31mTypeError\u001b[0m: list indices must be integers or slices, not Tag"
     ]
    }
   ],
   "source": [
    "# harasho = []\n",
    "# for nostrovia in milks:\n",
    "#     harasho.append(milks[nostrovia].content[1])\n",
    "#it's a shitload more code than that but basically you have to\n",
    "#use the above frame in a nested loop to add to the list of dictionaries\n",
    "\n",
    "#just sort it out tomorrow after sleep"
   ]
  },
  {
   "cell_type": "code",
   "execution_count": 35,
   "metadata": {},
   "outputs": [
    {
     "data": {
      "text/plain": [
       "<a aria-label=\"Central Market Organics Whole Milk,\n",
       "\t\t1 gal,\n",
       "\t\t$5.85 each. Features:  ORGANIC.  GO LOCAL.\" class=\"responsivegriditem__aria-link-wrap\" href=\"/product-detail/central-market-organics-whole-milk/931316\" id=\"product-931316\">\n",
       "<div class=\"responsivegriditem-top\" onclick=\"gtm_e_productClick('gtm-product-click-931316');\">\n",
       "<div class=\"cat-feature clearfix\">\n",
       "<div class=\"cat-feature-list clearfix\">\n",
       "<img src=\"https://images.heb.com/is/image/HEBGrocery/snp-small/snipe-so95.jpg\" title=\"ORGANIC\"/>\n",
       "<img src=\"https://images.heb.com/is/image/HEBGrocery/snp-small/snipe-sgolocal.jpg\" title=\"GO LOCAL\"/>\n",
       "</div></div>\n",
       "<div class=\"cat-list-img gtm-product gtm-impressed\">\n",
       "<img alt=\"\" class=\"lazyloaded\" data-src=\"https://images.heb.com/is/image/HEBGrocery/prd-small/central-market-organics-whole-milk-000931316.jpg\" src=\"https://images.heb.com/is/image/HEBGrocery/prd-small/central-market-organics-whole-milk-000931316.jpg\"/><script type=\"application/ld+json\">\n",
       "{\t\n",
       "\t\"name\": \"Central Market Organics Whole Milk\", \n",
       "\t\"id\": \"931316\", \n",
       "\t\"category\": \"Dairy & Eggs/Milk\",\n",
       "\t\"brand\": \"Central Market\", \n",
       "\t\"variant\": \"each\", \n",
       "\t\"price\": 5.85,\n",
       "\t\"list\": \"Search Results page\",\n",
       "\t\"position\": \"1\",\n",
       "\t\"dimension26\": \"true\",\n",
       "\t\"dimension40\": \"default\"\n",
       "}\n",
       "</script>\n",
       "</div>\n",
       "</div>\n",
       "<div class=\"responsivegriditem-middle\">\n",
       "<div class=\"responsivegriditem__title\" onclick=\"gtm_e_productClick('gtm-product-click-931316');\">\n",
       "<span class=\"responsivegriditem__title\">\n",
       "\t\t\t\t\tCentral Market Organics Whole Milk, <span class=\"item-size\">1 gal</span></span></div>\n",
       "<div class=\"cat-price\">\n",
       "<div class=\"responsivegriditem__price-label\"></div>\n",
       "<span class=\"cat-price-number\">\n",
       "                        $5.85 each</span>\n",
       "<span class=\"cat-sale-price-container\">\n",
       "<span class=\"uomSalePrice\">\n",
       "                        ($0.05/oz)\n",
       "                    </span>\n",
       "</span>\n",
       "</div><div class=\"cdp-moq\">\n",
       "</div>\n",
       "</div>\n",
       "</a>"
      ]
     },
     "execution_count": 35,
     "metadata": {},
     "output_type": "execute_result"
    }
   ],
   "source": [
    "milks[60]"
   ]
  },
  {
   "cell_type": "code",
   "execution_count": 19,
   "metadata": {},
   "outputs": [
    {
     "data": {
      "text/html": [
       "<div>\n",
       "<style scoped>\n",
       "    .dataframe tbody tr th:only-of-type {\n",
       "        vertical-align: middle;\n",
       "    }\n",
       "\n",
       "    .dataframe tbody tr th {\n",
       "        vertical-align: top;\n",
       "    }\n",
       "\n",
       "    .dataframe thead th {\n",
       "        text-align: right;\n",
       "    }\n",
       "</style>\n",
       "<table border=\"1\" class=\"dataframe\">\n",
       "  <thead>\n",
       "    <tr style=\"text-align: right;\">\n",
       "      <th></th>\n",
       "      <th>id</th>\n",
       "    </tr>\n",
       "    <tr>\n",
       "      <th>category</th>\n",
       "      <th></th>\n",
       "    </tr>\n",
       "  </thead>\n",
       "  <tbody>\n",
       "    <tr>\n",
       "      <th>Dairy &amp; Eggs/Milk</th>\n",
       "      <td>900</td>\n",
       "    </tr>\n",
       "  </tbody>\n",
       "</table>\n",
       "</div>"
      ],
      "text/plain": [
       "                    id\n",
       "category              \n",
       "Dairy & Eggs/Milk  900"
      ]
     },
     "execution_count": 19,
     "metadata": {},
     "output_type": "execute_result"
    }
   ],
   "source": [
    "scrap_df=heb_filter(milks)"
   ]
  },
  {
   "cell_type": "code",
   "execution_count": 20,
   "metadata": {},
   "outputs": [
    {
     "data": {
      "text/html": [
       "<div>\n",
       "<style scoped>\n",
       "    .dataframe tbody tr th:only-of-type {\n",
       "        vertical-align: middle;\n",
       "    }\n",
       "\n",
       "    .dataframe tbody tr th {\n",
       "        vertical-align: top;\n",
       "    }\n",
       "\n",
       "    .dataframe thead th {\n",
       "        text-align: right;\n",
       "    }\n",
       "</style>\n",
       "<table border=\"1\" class=\"dataframe\">\n",
       "  <thead>\n",
       "    <tr style=\"text-align: right;\">\n",
       "      <th></th>\n",
       "      <th>brand</th>\n",
       "      <th>category</th>\n",
       "      <th>coupon</th>\n",
       "      <th>features</th>\n",
       "      <th>id</th>\n",
       "      <th>image</th>\n",
       "      <th>name</th>\n",
       "      <th>price</th>\n",
       "      <th>size</th>\n",
       "      <th>uomSalePrice</th>\n",
       "    </tr>\n",
       "  </thead>\n",
       "  <tbody>\n",
       "    <tr>\n",
       "      <th>0</th>\n",
       "      <td>Central Market</td>\n",
       "      <td>Dairy &amp; Eggs/Milk</td>\n",
       "      <td>0.0</td>\n",
       "      <td>ORGANIC.  GO LOCAL.</td>\n",
       "      <td>931316</td>\n",
       "      <td>https://images.heb.com/is/image/HEBGrocery/prd...</td>\n",
       "      <td>Central Market Organics Whole Milk, 1 gal</td>\n",
       "      <td>5.85</td>\n",
       "      <td>, 1 gal</td>\n",
       "      <td>($0.05/oz)</td>\n",
       "    </tr>\n",
       "    <tr>\n",
       "      <th>1</th>\n",
       "      <td>Central Market</td>\n",
       "      <td>Dairy &amp; Eggs/Milk</td>\n",
       "      <td>0.0</td>\n",
       "      <td>ORGANIC.  GO LOCAL.</td>\n",
       "      <td>931317</td>\n",
       "      <td>https://images.heb.com/is/image/HEBGrocery/prd...</td>\n",
       "      <td>Central Market Organics Reduced Fat 2% Milkfat...</td>\n",
       "      <td>5.85</td>\n",
       "      <td>fat Milk, 1 gal</td>\n",
       "      <td>($0.05/oz)</td>\n",
       "    </tr>\n",
       "    <tr>\n",
       "      <th>2</th>\n",
       "      <td>H-E-B</td>\n",
       "      <td>Dairy &amp; Eggs/Milk</td>\n",
       "      <td>0.0</td>\n",
       "      <td>GO LOCAL.  SELECT INGREDIENTS. Primo Pick.</td>\n",
       "      <td>671076</td>\n",
       "      <td>https://images.heb.com/is/image/HEBGrocery/prd...</td>\n",
       "      <td>H‑E‑B Select Ingredients MooTopia Lactose Free...</td>\n",
       "      <td>4.10</td>\n",
       "      <td>, 1/2 gal</td>\n",
       "      <td>($0.07/oz)</td>\n",
       "    </tr>\n",
       "    <tr>\n",
       "      <th>3</th>\n",
       "      <td>H-E-B</td>\n",
       "      <td>Dairy &amp; Eggs/Milk</td>\n",
       "      <td>0.0</td>\n",
       "      <td>CARB AWARE.  LOW SATURATED FAT.  GO LOCAL.  ...</td>\n",
       "      <td>314136</td>\n",
       "      <td>https://images.heb.com/is/image/HEBGrocery/prd...</td>\n",
       "      <td>H‑E‑B Select Ingredients Fat Free Milk, 1/2 gal</td>\n",
       "      <td>1.94</td>\n",
       "      <td>, 1/2 gal</td>\n",
       "      <td>($0.04/oz)</td>\n",
       "    </tr>\n",
       "    <tr>\n",
       "      <th>4</th>\n",
       "      <td>H-E-B</td>\n",
       "      <td>Dairy &amp; Eggs/Milk</td>\n",
       "      <td>0.0</td>\n",
       "      <td>GO LOCAL.  SELECT INGREDIENTS.</td>\n",
       "      <td>314134</td>\n",
       "      <td>https://images.heb.com/is/image/HEBGrocery/prd...</td>\n",
       "      <td>H‑E‑B Select Ingredients 1% Low Fat Milk, 1/2 gal</td>\n",
       "      <td>1.94</td>\n",
       "      <td>, 1/2 gal</td>\n",
       "      <td>($0.04/oz)</td>\n",
       "    </tr>\n",
       "    <tr>\n",
       "      <th>...</th>\n",
       "      <td>...</td>\n",
       "      <td>...</td>\n",
       "      <td>...</td>\n",
       "      <td>...</td>\n",
       "      <td>...</td>\n",
       "      <td>...</td>\n",
       "      <td>...</td>\n",
       "      <td>...</td>\n",
       "      <td>...</td>\n",
       "      <td>...</td>\n",
       "    </tr>\n",
       "    <tr>\n",
       "      <th>895</th>\n",
       "      <td>H-E-B</td>\n",
       "      <td>Dairy &amp; Eggs/Milk</td>\n",
       "      <td>0.0</td>\n",
       "      <td>GO LOCAL.  SELECT INGREDIENTS.</td>\n",
       "      <td>314125</td>\n",
       "      <td>https://images.heb.com/is/image/HEBGrocery/prd...</td>\n",
       "      <td>H‑E‑B Select Ingredients Reduced Fat 2% Milk, ...</td>\n",
       "      <td>3.38</td>\n",
       "      <td>, 1 gal</td>\n",
       "      <td>($0.03/oz)</td>\n",
       "    </tr>\n",
       "    <tr>\n",
       "      <th>896</th>\n",
       "      <td>H-E-B</td>\n",
       "      <td>Dairy &amp; Eggs/Milk</td>\n",
       "      <td>0.0</td>\n",
       "      <td>GO LOCAL.  SELECT INGREDIENTS.</td>\n",
       "      <td>314130</td>\n",
       "      <td>https://images.heb.com/is/image/HEBGrocery/prd...</td>\n",
       "      <td>H‑E‑B Select Ingredients Whole Milk, 1 gal</td>\n",
       "      <td>3.38</td>\n",
       "      <td>, 1 gal</td>\n",
       "      <td>($0.03/oz)</td>\n",
       "    </tr>\n",
       "    <tr>\n",
       "      <th>897</th>\n",
       "      <td>H-E-B</td>\n",
       "      <td>Dairy &amp; Eggs/Milk</td>\n",
       "      <td>0.0</td>\n",
       "      <td>GO LOCAL.  SELECT INGREDIENTS.</td>\n",
       "      <td>314135</td>\n",
       "      <td>https://images.heb.com/is/image/HEBGrocery/prd...</td>\n",
       "      <td>H‑E‑B Select Ingredients Whole Milk, 1/2 gal</td>\n",
       "      <td>1.94</td>\n",
       "      <td>, 1/2 gal</td>\n",
       "      <td>($0.04/oz)</td>\n",
       "    </tr>\n",
       "    <tr>\n",
       "      <th>898</th>\n",
       "      <td>Central Market</td>\n",
       "      <td>Dairy &amp; Eggs/Milk</td>\n",
       "      <td>0.0</td>\n",
       "      <td>ORGANIC.  GO LOCAL.</td>\n",
       "      <td>690987</td>\n",
       "      <td>https://images.heb.com/is/image/HEBGrocery/prd...</td>\n",
       "      <td>Central Market Organics 2% Reduced Fat Milk, 1...</td>\n",
       "      <td>3.07</td>\n",
       "      <td>, 1/2 gal</td>\n",
       "      <td>($0.05/oz)</td>\n",
       "    </tr>\n",
       "    <tr>\n",
       "      <th>899</th>\n",
       "      <td>Central Market</td>\n",
       "      <td>Dairy &amp; Eggs/Milk</td>\n",
       "      <td>0.0</td>\n",
       "      <td>ORGANIC.  GO LOCAL.</td>\n",
       "      <td>690986</td>\n",
       "      <td>https://images.heb.com/is/image/HEBGrocery/prd...</td>\n",
       "      <td>Central Market Organics Whole Milk, 1/2 gal</td>\n",
       "      <td>3.07</td>\n",
       "      <td>, 1/2 gal</td>\n",
       "      <td>($0.05/oz)</td>\n",
       "    </tr>\n",
       "  </tbody>\n",
       "</table>\n",
       "<p>900 rows × 10 columns</p>\n",
       "</div>"
      ],
      "text/plain": [
       "              brand           category  coupon  \\\n",
       "0    Central Market  Dairy & Eggs/Milk     0.0   \n",
       "1    Central Market  Dairy & Eggs/Milk     0.0   \n",
       "2             H-E-B  Dairy & Eggs/Milk     0.0   \n",
       "3             H-E-B  Dairy & Eggs/Milk     0.0   \n",
       "4             H-E-B  Dairy & Eggs/Milk     0.0   \n",
       "..              ...                ...     ...   \n",
       "895           H-E-B  Dairy & Eggs/Milk     0.0   \n",
       "896           H-E-B  Dairy & Eggs/Milk     0.0   \n",
       "897           H-E-B  Dairy & Eggs/Milk     0.0   \n",
       "898  Central Market  Dairy & Eggs/Milk     0.0   \n",
       "899  Central Market  Dairy & Eggs/Milk     0.0   \n",
       "\n",
       "                                              features      id  \\\n",
       "0                                  ORGANIC.  GO LOCAL.  931316   \n",
       "1                                  ORGANIC.  GO LOCAL.  931317   \n",
       "2           GO LOCAL.  SELECT INGREDIENTS. Primo Pick.  671076   \n",
       "3      CARB AWARE.  LOW SATURATED FAT.  GO LOCAL.  ...  314136   \n",
       "4                       GO LOCAL.  SELECT INGREDIENTS.  314134   \n",
       "..                                                 ...     ...   \n",
       "895                     GO LOCAL.  SELECT INGREDIENTS.  314125   \n",
       "896                     GO LOCAL.  SELECT INGREDIENTS.  314130   \n",
       "897                     GO LOCAL.  SELECT INGREDIENTS.  314135   \n",
       "898                                ORGANIC.  GO LOCAL.  690987   \n",
       "899                                ORGANIC.  GO LOCAL.  690986   \n",
       "\n",
       "                                                 image  \\\n",
       "0    https://images.heb.com/is/image/HEBGrocery/prd...   \n",
       "1    https://images.heb.com/is/image/HEBGrocery/prd...   \n",
       "2    https://images.heb.com/is/image/HEBGrocery/prd...   \n",
       "3    https://images.heb.com/is/image/HEBGrocery/prd...   \n",
       "4    https://images.heb.com/is/image/HEBGrocery/prd...   \n",
       "..                                                 ...   \n",
       "895  https://images.heb.com/is/image/HEBGrocery/prd...   \n",
       "896  https://images.heb.com/is/image/HEBGrocery/prd...   \n",
       "897  https://images.heb.com/is/image/HEBGrocery/prd...   \n",
       "898  https://images.heb.com/is/image/HEBGrocery/prd...   \n",
       "899  https://images.heb.com/is/image/HEBGrocery/prd...   \n",
       "\n",
       "                                                  name  price  \\\n",
       "0            Central Market Organics Whole Milk, 1 gal   5.85   \n",
       "1    Central Market Organics Reduced Fat 2% Milkfat...   5.85   \n",
       "2    H‑E‑B Select Ingredients MooTopia Lactose Free...   4.10   \n",
       "3      H‑E‑B Select Ingredients Fat Free Milk, 1/2 gal   1.94   \n",
       "4    H‑E‑B Select Ingredients 1% Low Fat Milk, 1/2 gal   1.94   \n",
       "..                                                 ...    ...   \n",
       "895  H‑E‑B Select Ingredients Reduced Fat 2% Milk, ...   3.38   \n",
       "896         H‑E‑B Select Ingredients Whole Milk, 1 gal   3.38   \n",
       "897       H‑E‑B Select Ingredients Whole Milk, 1/2 gal   1.94   \n",
       "898  Central Market Organics 2% Reduced Fat Milk, 1...   3.07   \n",
       "899        Central Market Organics Whole Milk, 1/2 gal   3.07   \n",
       "\n",
       "                size uomSalePrice  \n",
       "0            , 1 gal   ($0.05/oz)  \n",
       "1    fat Milk, 1 gal   ($0.05/oz)  \n",
       "2          , 1/2 gal   ($0.07/oz)  \n",
       "3          , 1/2 gal   ($0.04/oz)  \n",
       "4          , 1/2 gal   ($0.04/oz)  \n",
       "..               ...          ...  \n",
       "895          , 1 gal   ($0.03/oz)  \n",
       "896          , 1 gal   ($0.03/oz)  \n",
       "897        , 1/2 gal   ($0.04/oz)  \n",
       "898        , 1/2 gal   ($0.05/oz)  \n",
       "899        , 1/2 gal   ($0.05/oz)  \n",
       "\n",
       "[900 rows x 10 columns]"
      ]
     },
     "execution_count": 20,
     "metadata": {},
     "output_type": "execute_result"
    }
   ],
   "source": [
    "scrap_df"
   ]
  },
  {
   "cell_type": "code",
   "execution_count": 14,
   "metadata": {},
   "outputs": [],
   "source": [
    "path='data/heb_scrape.csv'\n",
    "scrap_df.to_csv(path, index_label=False)"
   ]
  }
 ],
 "metadata": {
  "kernelspec": {
   "display_name": "Python 3",
   "language": "python",
   "name": "python3"
  },
  "language_info": {
   "codemirror_mode": {
    "name": "ipython",
    "version": 3
   },
   "file_extension": ".py",
   "mimetype": "text/x-python",
   "name": "python",
   "nbconvert_exporter": "python",
   "pygments_lexer": "ipython3",
   "version": "3.8.5"
  }
 },
 "nbformat": 4,
 "nbformat_minor": 4
}
