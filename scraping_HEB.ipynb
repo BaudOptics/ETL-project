{
 "cells": [
  {
   "cell_type": "code",
   "execution_count": 5,
   "metadata": {},
   "outputs": [],
   "source": [
    "from bs4 import BeautifulSoup as bs\n",
    "from splinter import Browser\n",
    "from webdriver_manager.chrome import ChromeDriverManager\n",
    "import time\n",
    "import re"
   ]
  },
  {
   "cell_type": "code",
   "execution_count": 7,
   "metadata": {},
   "outputs": [
    {
     "name": "stderr",
     "output_type": "stream",
     "text": [
      "[WDM] - ====== WebDriver manager ======\n",
      "[WDM] - Current google-chrome version is 88.0.4324\n",
      "[WDM] - Get LATEST driver version for 88.0.4324\n"
     ]
    },
    {
     "name": "stdout",
     "output_type": "stream",
     "text": [
      "\n",
      "\n"
     ]
    },
    {
     "name": "stderr",
     "output_type": "stream",
     "text": [
      "[WDM] - Driver [/Users/Baud/.wdm/drivers/chromedriver/mac64/88.0.4324.96/chromedriver] found in cache\n"
     ]
    }
   ],
   "source": [
    "#setting up splinter\n",
    "executable_path = {'executable_path': ChromeDriverManager().install()}\n",
    "browser = Browser('chrome', **executable_path, headless=False)"
   ]
  },
  {
   "cell_type": "code",
   "execution_count": 8,
   "metadata": {},
   "outputs": [],
   "source": [
    "milk = \"https://www.heb.com/search/results?N=3139289889&No=0&Nrpp=60&Ntt=milk&q=milk&prodFilter=none\"\n",
    "browser.visit(milk)"
   ]
  },
  {
   "cell_type": "code",
   "execution_count": 9,
   "metadata": {},
   "outputs": [],
   "source": [
    "html = browser.html\n",
    "soup = bs(html,\"lxml\")\n",
    "\n",
    "page = soup.body.find_all('a',id=re.compile('product-'))\n",
    "milks = page\n",
    "browser.links.find_by_partial_text('Next').click()\n",
    "for x in range(1,15):\n",
    "    page = soup.body.find_all('a',id=re.compile('product-'))\n",
    "    milks.extend(page)\n",
    "    try:\n",
    "        browser.links.find_by_partial_text('Next').click()\n",
    "    except:\n",
    "        break"
   ]
  },
  {
   "cell_type": "code",
   "execution_count": 15,
   "metadata": {},
   "outputs": [
    {
     "data": {
      "text/plain": [
       "<a aria-label=\"Central Market Organics Whole Milk,\n",
       "\t\t1 gal,\n",
       "\t\t$5.85 each. Features:  ORGANIC.  GO LOCAL.\" class=\"responsivegriditem__aria-link-wrap\" href=\"/product-detail/central-market-organics-whole-milk/931316\" id=\"product-931316\">\n",
       "<div class=\"responsivegriditem-top\" onclick=\"gtm_e_productClick('gtm-product-click-931316');\">\n",
       "<div class=\"cat-feature clearfix\">\n",
       "<div class=\"cat-feature-list clearfix\">\n",
       "<img src=\"https://images.heb.com/is/image/HEBGrocery/snp-small/snipe-so95.jpg\" title=\"ORGANIC\"/>\n",
       "<img src=\"https://images.heb.com/is/image/HEBGrocery/snp-small/snipe-sgolocal.jpg\" title=\"GO LOCAL\"/>\n",
       "</div></div>\n",
       "<div class=\"cat-list-img gtm-product\">\n",
       "<img alt=\"\" class=\"lazyloaded\" data-src=\"https://images.heb.com/is/image/HEBGrocery/prd-small/central-market-organics-whole-milk-000931316.jpg\" src=\"https://images.heb.com/is/image/HEBGrocery/prd-small/central-market-organics-whole-milk-000931316.jpg\"/><script type=\"application/ld+json\">\n",
       "{\t\n",
       "\t\"name\": \"Central Market Organics Whole Milk\", \n",
       "\t\"id\": \"931316\", \n",
       "\t\"category\": \"Dairy & Eggs/Milk\",\n",
       "\t\"brand\": \"Central Market\", \n",
       "\t\"variant\": \"each\", \n",
       "\t\"price\": 5.85,\n",
       "\t\"list\": \"Search Results page\",\n",
       "\t\"position\": \"1\",\n",
       "\t\"dimension26\": \"true\",\n",
       "\t\"dimension40\": \"default\"\n",
       "}\n",
       "</script>\n",
       "</div>\n",
       "</div>\n",
       "<div class=\"responsivegriditem-middle\">\n",
       "<div class=\"responsivegriditem__title\" onclick=\"gtm_e_productClick('gtm-product-click-931316');\">\n",
       "<span class=\"responsivegriditem__title\">\n",
       "\t\t\t\t\tCentral Market Organics Whole Milk, <span class=\"item-size\">1 gal</span></span></div>\n",
       "<div class=\"cat-price\">\n",
       "<div class=\"responsivegriditem__price-label\"></div>\n",
       "<span class=\"cat-price-number\">\n",
       "                        $5.85 each</span>\n",
       "<span class=\"cat-sale-price-container\">\n",
       "<span class=\"uomSalePrice\">\n",
       "                        ($0.05/oz)\n",
       "                    </span>\n",
       "</span>\n",
       "</div><div class=\"cdp-moq\">\n",
       "</div>\n",
       "</div>\n",
       "</a>"
      ]
     },
     "execution_count": 15,
     "metadata": {},
     "output_type": "execute_result"
    }
   ],
   "source": [
    "milks[0]\n",
    "# tag_string = \"\"\n",
    "# for item in milks[0].contents[1]:\n",
    "#     tag_string += str(item)\n",
    "    \n",
    "# #tag_string\n",
    "# item_info = tag_string.split(\"{\")\n",
    "# the_right_stuff = item_info[1]\n",
    "# while \"\\t\" in the_right_stuff:\n",
    "#     index = the_right_stuff.find('\\t')\n",
    "#     the_right_stuff = the_right_stuff[:index] + the_right_stuff[index+1:]\n",
    "# while \"\\n\" in the_right_stuff:\n",
    "#     index = the_right_stuff.find('\\n')\n",
    "#     the_right_stuff = the_right_stuff[:index] + the_right_stuff[index+1:]\n",
    "# while \"</script>\" in the_right_stuff:\n",
    "#     index = the_right_stuff.find('</script>')\n",
    "#     the_right_stuff = the_right_stuff[:index] + the_right_stuff[index+9:]\n",
    "# while \"</div>\" in the_right_stuff:\n",
    "#     index = the_right_stuff.find('</div>')\n",
    "#     the_right_stuff = the_right_stuff[:index] + the_right_stuff[index+6:]\n",
    "# the_right_stuff"
   ]
  },
  {
   "cell_type": "code",
   "execution_count": 6,
   "metadata": {},
   "outputs": [],
   "source": [
    "browser.quit()"
   ]
  },
  {
   "cell_type": "code",
   "execution_count": null,
   "metadata": {},
   "outputs": [],
   "source": []
  }
 ],
 "metadata": {
  "kernelspec": {
   "display_name": "Python 3",
   "language": "python",
   "name": "python3"
  },
  "language_info": {
   "codemirror_mode": {
    "name": "ipython",
    "version": 3
   },
   "file_extension": ".py",
   "mimetype": "text/x-python",
   "name": "python",
   "nbconvert_exporter": "python",
   "pygments_lexer": "ipython3",
   "version": "3.8.5"
  }
 },
 "nbformat": 4,
 "nbformat_minor": 4
}
